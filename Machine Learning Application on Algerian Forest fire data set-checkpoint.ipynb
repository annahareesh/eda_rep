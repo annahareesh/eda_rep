{
 "cells": [
  {
   "cell_type": "markdown",
   "id": "a6fce1b2",
   "metadata": {},
   "source": [
    "# Machine learning - Linear regression exercise\n",
    "\n",
    "## Algerian Forest fire dataset "
   ]
  },
  {
   "cell_type": "raw",
   "id": "000701e5",
   "metadata": {},
   "source": [
    "Attribute Information:\n",
    "\n",
    "1. Date : (DD/MM/YYYY) Day, month ('june' to 'september'), year (2012)\n",
    "Weather data observations\n",
    "2. Temp : temperature noon (temperature max) in Celsius degrees: 22 to 42\n",
    "3. RH : Relative Humidity in %: 21 to 90\n",
    "4. Ws :Wind speed in km/h: 6 to 29\n",
    "5. Rain: total day in mm: 0 to 16.8\n",
    "FWI Components\n",
    "6. Fine Fuel Moisture Code (FFMC) index from the FWI system: 28.6 to 92.5\n",
    "7. Duff Moisture Code (DMC) index from the FWI system: 1.1 to 65.9\n",
    "8. Drought Code (DC) index from the FWI system: 7 to 220.4\n",
    "9. Initial Spread Index (ISI) index from the FWI system: 0 to 18.5\n",
    "10. Buildup Index (BUI) index from the FWI system: 1.1 to 68\n",
    "11. Fire Weather Index (FWI) Index: 0 to 31.1\n",
    "12. Classes: two classes, namely â€œFireâ€ and â€œnot Fireâ€\n",
    "\n"
   ]
  },
  {
   "cell_type": "markdown",
   "id": "691a46e3",
   "metadata": {},
   "source": [
    "### importing libraries"
   ]
  },
  {
   "cell_type": "code",
   "execution_count": 1,
   "id": "ae5ad40d",
   "metadata": {},
   "outputs": [],
   "source": [
    "import pandas as pd\n",
    "import numpy as np\n",
    "import seaborn as sns\n",
    "import matplotlib.pyplot as plt\n",
    "import plotly.express as px\n",
    "import warnings\n",
    "warnings.filterwarnings('ignore')\n",
    "\n",
    "%matplotlib inline"
   ]
  },
  {
   "cell_type": "markdown",
   "id": "ff503ad7",
   "metadata": {},
   "source": [
    "### data reading and cleaning"
   ]
  },
  {
   "cell_type": "code",
   "execution_count": 2,
   "id": "31341f42",
   "metadata": {},
   "outputs": [
    {
     "data": {
      "text/html": [
       "<div>\n",
       "<style scoped>\n",
       "    .dataframe tbody tr th:only-of-type {\n",
       "        vertical-align: middle;\n",
       "    }\n",
       "\n",
       "    .dataframe tbody tr th {\n",
       "        vertical-align: top;\n",
       "    }\n",
       "\n",
       "    .dataframe thead th {\n",
       "        text-align: right;\n",
       "    }\n",
       "</style>\n",
       "<table border=\"1\" class=\"dataframe\">\n",
       "  <thead>\n",
       "    <tr style=\"text-align: right;\">\n",
       "      <th></th>\n",
       "      <th>day</th>\n",
       "      <th>month</th>\n",
       "      <th>year</th>\n",
       "      <th>Temperature</th>\n",
       "      <th>RH</th>\n",
       "      <th>Ws</th>\n",
       "      <th>Rain</th>\n",
       "      <th>FFMC</th>\n",
       "      <th>DMC</th>\n",
       "      <th>DC</th>\n",
       "      <th>ISI</th>\n",
       "      <th>BUI</th>\n",
       "      <th>FWI</th>\n",
       "      <th>Classes</th>\n",
       "    </tr>\n",
       "  </thead>\n",
       "  <tbody>\n",
       "    <tr>\n",
       "      <th>0</th>\n",
       "      <td>01</td>\n",
       "      <td>06</td>\n",
       "      <td>2012</td>\n",
       "      <td>29</td>\n",
       "      <td>57</td>\n",
       "      <td>18</td>\n",
       "      <td>0</td>\n",
       "      <td>65.7</td>\n",
       "      <td>3.4</td>\n",
       "      <td>7.6</td>\n",
       "      <td>1.3</td>\n",
       "      <td>3.4</td>\n",
       "      <td>0.5</td>\n",
       "      <td>not fire</td>\n",
       "    </tr>\n",
       "    <tr>\n",
       "      <th>1</th>\n",
       "      <td>02</td>\n",
       "      <td>06</td>\n",
       "      <td>2012</td>\n",
       "      <td>29</td>\n",
       "      <td>61</td>\n",
       "      <td>13</td>\n",
       "      <td>1.3</td>\n",
       "      <td>64.4</td>\n",
       "      <td>4.1</td>\n",
       "      <td>7.6</td>\n",
       "      <td>1</td>\n",
       "      <td>3.9</td>\n",
       "      <td>0.4</td>\n",
       "      <td>not fire</td>\n",
       "    </tr>\n",
       "    <tr>\n",
       "      <th>2</th>\n",
       "      <td>03</td>\n",
       "      <td>06</td>\n",
       "      <td>2012</td>\n",
       "      <td>26</td>\n",
       "      <td>82</td>\n",
       "      <td>22</td>\n",
       "      <td>13.1</td>\n",
       "      <td>47.1</td>\n",
       "      <td>2.5</td>\n",
       "      <td>7.1</td>\n",
       "      <td>0.3</td>\n",
       "      <td>2.7</td>\n",
       "      <td>0.1</td>\n",
       "      <td>not fire</td>\n",
       "    </tr>\n",
       "    <tr>\n",
       "      <th>3</th>\n",
       "      <td>04</td>\n",
       "      <td>06</td>\n",
       "      <td>2012</td>\n",
       "      <td>25</td>\n",
       "      <td>89</td>\n",
       "      <td>13</td>\n",
       "      <td>2.5</td>\n",
       "      <td>28.6</td>\n",
       "      <td>1.3</td>\n",
       "      <td>6.9</td>\n",
       "      <td>0</td>\n",
       "      <td>1.7</td>\n",
       "      <td>0</td>\n",
       "      <td>not fire</td>\n",
       "    </tr>\n",
       "    <tr>\n",
       "      <th>4</th>\n",
       "      <td>05</td>\n",
       "      <td>06</td>\n",
       "      <td>2012</td>\n",
       "      <td>27</td>\n",
       "      <td>77</td>\n",
       "      <td>16</td>\n",
       "      <td>0</td>\n",
       "      <td>64.8</td>\n",
       "      <td>3</td>\n",
       "      <td>14.2</td>\n",
       "      <td>1.2</td>\n",
       "      <td>3.9</td>\n",
       "      <td>0.5</td>\n",
       "      <td>not fire</td>\n",
       "    </tr>\n",
       "    <tr>\n",
       "      <th>...</th>\n",
       "      <td>...</td>\n",
       "      <td>...</td>\n",
       "      <td>...</td>\n",
       "      <td>...</td>\n",
       "      <td>...</td>\n",
       "      <td>...</td>\n",
       "      <td>...</td>\n",
       "      <td>...</td>\n",
       "      <td>...</td>\n",
       "      <td>...</td>\n",
       "      <td>...</td>\n",
       "      <td>...</td>\n",
       "      <td>...</td>\n",
       "      <td>...</td>\n",
       "    </tr>\n",
       "    <tr>\n",
       "      <th>241</th>\n",
       "      <td>26</td>\n",
       "      <td>09</td>\n",
       "      <td>2012</td>\n",
       "      <td>30</td>\n",
       "      <td>65</td>\n",
       "      <td>14</td>\n",
       "      <td>0</td>\n",
       "      <td>85.4</td>\n",
       "      <td>16</td>\n",
       "      <td>44.5</td>\n",
       "      <td>4.5</td>\n",
       "      <td>16.9</td>\n",
       "      <td>6.5</td>\n",
       "      <td>fire</td>\n",
       "    </tr>\n",
       "    <tr>\n",
       "      <th>242</th>\n",
       "      <td>27</td>\n",
       "      <td>09</td>\n",
       "      <td>2012</td>\n",
       "      <td>28</td>\n",
       "      <td>87</td>\n",
       "      <td>15</td>\n",
       "      <td>4.4</td>\n",
       "      <td>41.1</td>\n",
       "      <td>6.5</td>\n",
       "      <td>8</td>\n",
       "      <td>0.1</td>\n",
       "      <td>6.2</td>\n",
       "      <td>0</td>\n",
       "      <td>not fire</td>\n",
       "    </tr>\n",
       "    <tr>\n",
       "      <th>243</th>\n",
       "      <td>28</td>\n",
       "      <td>09</td>\n",
       "      <td>2012</td>\n",
       "      <td>27</td>\n",
       "      <td>87</td>\n",
       "      <td>29</td>\n",
       "      <td>0.5</td>\n",
       "      <td>45.9</td>\n",
       "      <td>3.5</td>\n",
       "      <td>7.9</td>\n",
       "      <td>0.4</td>\n",
       "      <td>3.4</td>\n",
       "      <td>0.2</td>\n",
       "      <td>not fire</td>\n",
       "    </tr>\n",
       "    <tr>\n",
       "      <th>244</th>\n",
       "      <td>29</td>\n",
       "      <td>09</td>\n",
       "      <td>2012</td>\n",
       "      <td>24</td>\n",
       "      <td>54</td>\n",
       "      <td>18</td>\n",
       "      <td>0.1</td>\n",
       "      <td>79.7</td>\n",
       "      <td>4.3</td>\n",
       "      <td>15.2</td>\n",
       "      <td>1.7</td>\n",
       "      <td>5.1</td>\n",
       "      <td>0.7</td>\n",
       "      <td>not fire</td>\n",
       "    </tr>\n",
       "    <tr>\n",
       "      <th>245</th>\n",
       "      <td>30</td>\n",
       "      <td>09</td>\n",
       "      <td>2012</td>\n",
       "      <td>24</td>\n",
       "      <td>64</td>\n",
       "      <td>15</td>\n",
       "      <td>0.2</td>\n",
       "      <td>67.3</td>\n",
       "      <td>3.8</td>\n",
       "      <td>16.5</td>\n",
       "      <td>1.2</td>\n",
       "      <td>4.8</td>\n",
       "      <td>0.5</td>\n",
       "      <td>not fire</td>\n",
       "    </tr>\n",
       "  </tbody>\n",
       "</table>\n",
       "<p>246 rows × 14 columns</p>\n",
       "</div>"
      ],
      "text/plain": [
       "    day month  year Temperature  RH  Ws Rain   FFMC  DMC    DC  ISI   BUI  \\\n",
       "0    01    06  2012          29  57  18     0  65.7  3.4   7.6  1.3   3.4   \n",
       "1    02    06  2012          29  61  13   1.3  64.4  4.1   7.6    1   3.9   \n",
       "2    03    06  2012          26  82  22  13.1  47.1  2.5   7.1  0.3   2.7   \n",
       "3    04    06  2012          25  89  13   2.5  28.6  1.3   6.9    0   1.7   \n",
       "4    05    06  2012          27  77  16     0  64.8    3  14.2  1.2   3.9   \n",
       "..   ..   ...   ...         ...  ..  ..   ...   ...  ...   ...  ...   ...   \n",
       "241  26    09  2012          30  65  14     0  85.4   16  44.5  4.5  16.9   \n",
       "242  27    09  2012          28  87  15   4.4  41.1  6.5     8  0.1   6.2   \n",
       "243  28    09  2012          27  87  29   0.5  45.9  3.5   7.9  0.4   3.4   \n",
       "244  29    09  2012          24  54  18   0.1  79.7  4.3  15.2  1.7   5.1   \n",
       "245  30    09  2012          24  64  15   0.2  67.3  3.8  16.5  1.2   4.8   \n",
       "\n",
       "     FWI     Classes    \n",
       "0    0.5   not fire     \n",
       "1    0.4   not fire     \n",
       "2    0.1   not fire     \n",
       "3      0   not fire     \n",
       "4    0.5   not fire     \n",
       "..   ...           ...  \n",
       "241  6.5       fire     \n",
       "242    0   not fire     \n",
       "243  0.2   not fire     \n",
       "244  0.7   not fire     \n",
       "245  0.5  not fire      \n",
       "\n",
       "[246 rows x 14 columns]"
      ]
     },
     "execution_count": 2,
     "metadata": {},
     "output_type": "execute_result"
    }
   ],
   "source": [
    "df = pd.read_csv(r\"C:\\Users\\annah\\Downloads\\Algerian_forest_fires_dataset_UPDATE.csv\",header=1)\n",
    "df"
   ]
  },
  {
   "cell_type": "markdown",
   "id": "dd789414",
   "metadata": {},
   "source": [
    "### dropping empty rows"
   ]
  },
  {
   "cell_type": "code",
   "execution_count": 3,
   "id": "1c0bbbcd",
   "metadata": {},
   "outputs": [],
   "source": [
    "df.drop([122,123], inplace = True)\n",
    "df.reset_index(inplace = True)\n",
    "df.drop('index', axis=1, inplace = True)"
   ]
  },
  {
   "cell_type": "code",
   "execution_count": 4,
   "id": "83d4d3ae",
   "metadata": {},
   "outputs": [],
   "source": [
    "df.loc[:122,'region'] ='bejaia'\n",
    "df.loc[122:,'region'] ='Sidi-Bel Abbes'"
   ]
  },
  {
   "cell_type": "markdown",
   "id": "914268e0",
   "metadata": {},
   "source": [
    "### stripping the names of columns"
   ]
  },
  {
   "cell_type": "code",
   "execution_count": 5,
   "id": "43baa867",
   "metadata": {},
   "outputs": [
    {
     "data": {
      "text/plain": [
       "Index(['day', 'month', 'year', 'Temperature', 'RH', 'Ws', 'Rain', 'FFMC',\n",
       "       'DMC', 'DC', 'ISI', 'BUI', 'FWI', 'Classes', 'region'],\n",
       "      dtype='object')"
      ]
     },
     "execution_count": 5,
     "metadata": {},
     "output_type": "execute_result"
    }
   ],
   "source": [
    "df.columns= [i.strip() for i in df.columns]\n",
    "df.columns"
   ]
  },
  {
   "cell_type": "markdown",
   "id": "2cb00471",
   "metadata": {},
   "source": [
    "###  Converting categorical value to numerical for ease of ML\n",
    "### not fire = 0 , fire = 1"
   ]
  },
  {
   "cell_type": "code",
   "execution_count": 6,
   "id": "5bbbebf8",
   "metadata": {},
   "outputs": [
    {
     "data": {
      "text/plain": [
       "array(['not fire   ', 'fire   ', 'fire', 'fire ', 'not fire', 'not fire ',\n",
       "       'not fire     ', nan, 'not fire    '], dtype=object)"
      ]
     },
     "execution_count": 6,
     "metadata": {},
     "output_type": "execute_result"
    }
   ],
   "source": [
    "df['Classes'].unique()"
   ]
  },
  {
   "cell_type": "code",
   "execution_count": 7,
   "id": "deb391f3",
   "metadata": {},
   "outputs": [],
   "source": [
    "df['Classes'] = df['Classes'].replace(to_replace ='not fire   ', value = 0)"
   ]
  },
  {
   "cell_type": "code",
   "execution_count": 8,
   "id": "ce3c95a5",
   "metadata": {},
   "outputs": [],
   "source": [
    "df['Classes'] = df['Classes'].replace(to_replace ='not fire', value = 0)\n",
    "df['Classes'] = df['Classes'].replace(to_replace ='not fire ', value = 0)\n",
    "df['Classes'] = df['Classes'].replace(to_replace ='not fire     ', value = 0)\n",
    "df['Classes'] = df['Classes'].replace(to_replace ='not fire    ', value = 0)"
   ]
  },
  {
   "cell_type": "code",
   "execution_count": 9,
   "id": "2f7aa2fd",
   "metadata": {},
   "outputs": [],
   "source": [
    "df['Classes'] = df['Classes'].replace(to_replace = 'fire   ', value = 1)\n",
    "df['Classes'] = df['Classes'].replace(to_replace = 'fire', value = 1)\n",
    "df['Classes'] = df['Classes'].replace(to_replace = 'fire ', value = 1)"
   ]
  },
  {
   "cell_type": "code",
   "execution_count": 10,
   "id": "f7869ffd",
   "metadata": {},
   "outputs": [
    {
     "data": {
      "text/plain": [
       "array([ 0.,  1., nan])"
      ]
     },
     "execution_count": 10,
     "metadata": {},
     "output_type": "execute_result"
    }
   ],
   "source": [
    "df['Classes'].unique()"
   ]
  },
  {
   "cell_type": "markdown",
   "id": "983f6004",
   "metadata": {},
   "source": [
    "### dropping null values"
   ]
  },
  {
   "cell_type": "code",
   "execution_count": 11,
   "id": "35556ac9",
   "metadata": {},
   "outputs": [
    {
     "data": {
      "text/plain": [
       "day            0\n",
       "month          0\n",
       "year           0\n",
       "Temperature    0\n",
       "RH             0\n",
       "Ws             0\n",
       "Rain           0\n",
       "FFMC           0\n",
       "DMC            0\n",
       "DC             0\n",
       "ISI            0\n",
       "BUI            0\n",
       "FWI            0\n",
       "Classes        1\n",
       "region         0\n",
       "dtype: int64"
      ]
     },
     "execution_count": 11,
     "metadata": {},
     "output_type": "execute_result"
    }
   ],
   "source": [
    "df.isnull().sum()"
   ]
  },
  {
   "cell_type": "code",
   "execution_count": 12,
   "id": "aba9b86c",
   "metadata": {},
   "outputs": [],
   "source": [
    "df.dropna(inplace = True)"
   ]
  },
  {
   "cell_type": "code",
   "execution_count": 13,
   "id": "a8ed1c9e",
   "metadata": {},
   "outputs": [
    {
     "data": {
      "text/plain": [
       "day            0\n",
       "month          0\n",
       "year           0\n",
       "Temperature    0\n",
       "RH             0\n",
       "Ws             0\n",
       "Rain           0\n",
       "FFMC           0\n",
       "DMC            0\n",
       "DC             0\n",
       "ISI            0\n",
       "BUI            0\n",
       "FWI            0\n",
       "Classes        0\n",
       "region         0\n",
       "dtype: int64"
      ]
     },
     "execution_count": 13,
     "metadata": {},
     "output_type": "execute_result"
    }
   ],
   "source": [
    "df.isnull().sum()"
   ]
  },
  {
   "cell_type": "markdown",
   "id": "0bede7dc",
   "metadata": {},
   "source": [
    "### replacing date month year feature with datefeature"
   ]
  },
  {
   "cell_type": "code",
   "execution_count": 14,
   "id": "7857f833",
   "metadata": {},
   "outputs": [],
   "source": [
    "df['date'] = pd.to_datetime(df[['day','month','year']])   # adding new column with day , moth , year information\n",
    "df.drop(['day','month','year'], axis =1, inplace = True)"
   ]
  },
  {
   "cell_type": "code",
   "execution_count": 15,
   "id": "717b3c3c",
   "metadata": {},
   "outputs": [
    {
     "data": {
      "text/html": [
       "<div>\n",
       "<style scoped>\n",
       "    .dataframe tbody tr th:only-of-type {\n",
       "        vertical-align: middle;\n",
       "    }\n",
       "\n",
       "    .dataframe tbody tr th {\n",
       "        vertical-align: top;\n",
       "    }\n",
       "\n",
       "    .dataframe thead th {\n",
       "        text-align: right;\n",
       "    }\n",
       "</style>\n",
       "<table border=\"1\" class=\"dataframe\">\n",
       "  <thead>\n",
       "    <tr style=\"text-align: right;\">\n",
       "      <th></th>\n",
       "      <th>Temperature</th>\n",
       "      <th>RH</th>\n",
       "      <th>Ws</th>\n",
       "      <th>Rain</th>\n",
       "      <th>FFMC</th>\n",
       "      <th>DMC</th>\n",
       "      <th>DC</th>\n",
       "      <th>ISI</th>\n",
       "      <th>BUI</th>\n",
       "      <th>FWI</th>\n",
       "      <th>Classes</th>\n",
       "      <th>region</th>\n",
       "      <th>date</th>\n",
       "    </tr>\n",
       "  </thead>\n",
       "  <tbody>\n",
       "    <tr>\n",
       "      <th>0</th>\n",
       "      <td>29</td>\n",
       "      <td>57</td>\n",
       "      <td>18</td>\n",
       "      <td>0</td>\n",
       "      <td>65.7</td>\n",
       "      <td>3.4</td>\n",
       "      <td>7.6</td>\n",
       "      <td>1.3</td>\n",
       "      <td>3.4</td>\n",
       "      <td>0.5</td>\n",
       "      <td>0.0</td>\n",
       "      <td>bejaia</td>\n",
       "      <td>2012-06-01</td>\n",
       "    </tr>\n",
       "    <tr>\n",
       "      <th>1</th>\n",
       "      <td>29</td>\n",
       "      <td>61</td>\n",
       "      <td>13</td>\n",
       "      <td>1.3</td>\n",
       "      <td>64.4</td>\n",
       "      <td>4.1</td>\n",
       "      <td>7.6</td>\n",
       "      <td>1</td>\n",
       "      <td>3.9</td>\n",
       "      <td>0.4</td>\n",
       "      <td>0.0</td>\n",
       "      <td>bejaia</td>\n",
       "      <td>2012-06-02</td>\n",
       "    </tr>\n",
       "    <tr>\n",
       "      <th>2</th>\n",
       "      <td>26</td>\n",
       "      <td>82</td>\n",
       "      <td>22</td>\n",
       "      <td>13.1</td>\n",
       "      <td>47.1</td>\n",
       "      <td>2.5</td>\n",
       "      <td>7.1</td>\n",
       "      <td>0.3</td>\n",
       "      <td>2.7</td>\n",
       "      <td>0.1</td>\n",
       "      <td>0.0</td>\n",
       "      <td>bejaia</td>\n",
       "      <td>2012-06-03</td>\n",
       "    </tr>\n",
       "    <tr>\n",
       "      <th>3</th>\n",
       "      <td>25</td>\n",
       "      <td>89</td>\n",
       "      <td>13</td>\n",
       "      <td>2.5</td>\n",
       "      <td>28.6</td>\n",
       "      <td>1.3</td>\n",
       "      <td>6.9</td>\n",
       "      <td>0</td>\n",
       "      <td>1.7</td>\n",
       "      <td>0</td>\n",
       "      <td>0.0</td>\n",
       "      <td>bejaia</td>\n",
       "      <td>2012-06-04</td>\n",
       "    </tr>\n",
       "    <tr>\n",
       "      <th>4</th>\n",
       "      <td>27</td>\n",
       "      <td>77</td>\n",
       "      <td>16</td>\n",
       "      <td>0</td>\n",
       "      <td>64.8</td>\n",
       "      <td>3</td>\n",
       "      <td>14.2</td>\n",
       "      <td>1.2</td>\n",
       "      <td>3.9</td>\n",
       "      <td>0.5</td>\n",
       "      <td>0.0</td>\n",
       "      <td>bejaia</td>\n",
       "      <td>2012-06-05</td>\n",
       "    </tr>\n",
       "  </tbody>\n",
       "</table>\n",
       "</div>"
      ],
      "text/plain": [
       "  Temperature  RH  Ws  Rain  FFMC  DMC    DC  ISI  BUI  FWI  Classes  region  \\\n",
       "0          29  57  18     0  65.7  3.4   7.6  1.3  3.4  0.5      0.0  bejaia   \n",
       "1          29  61  13   1.3  64.4  4.1   7.6    1  3.9  0.4      0.0  bejaia   \n",
       "2          26  82  22  13.1  47.1  2.5   7.1  0.3  2.7  0.1      0.0  bejaia   \n",
       "3          25  89  13   2.5  28.6  1.3   6.9    0  1.7    0      0.0  bejaia   \n",
       "4          27  77  16     0  64.8    3  14.2  1.2  3.9  0.5      0.0  bejaia   \n",
       "\n",
       "        date  \n",
       "0 2012-06-01  \n",
       "1 2012-06-02  \n",
       "2 2012-06-03  \n",
       "3 2012-06-04  \n",
       "4 2012-06-05  "
      ]
     },
     "execution_count": 15,
     "metadata": {},
     "output_type": "execute_result"
    }
   ],
   "source": [
    "df.head()"
   ]
  },
  {
   "cell_type": "markdown",
   "id": "2078c743",
   "metadata": {},
   "source": [
    "### checking datatypes"
   ]
  },
  {
   "cell_type": "code",
   "execution_count": 16,
   "id": "fe42fb66",
   "metadata": {},
   "outputs": [
    {
     "data": {
      "text/plain": [
       "Temperature            object\n",
       "RH                     object\n",
       "Ws                     object\n",
       "Rain                   object\n",
       "FFMC                   object\n",
       "DMC                    object\n",
       "DC                     object\n",
       "ISI                    object\n",
       "BUI                    object\n",
       "FWI                    object\n",
       "Classes               float64\n",
       "region                 object\n",
       "date           datetime64[ns]\n",
       "dtype: object"
      ]
     },
     "execution_count": 16,
     "metadata": {},
     "output_type": "execute_result"
    }
   ],
   "source": [
    "df.dtypes"
   ]
  },
  {
   "cell_type": "markdown",
   "id": "f4b37879",
   "metadata": {},
   "source": [
    "### Observation: many numerical values are in text format, now we convert them to relevent data type"
   ]
  },
  {
   "cell_type": "code",
   "execution_count": 17,
   "id": "1d503e71",
   "metadata": {},
   "outputs": [],
   "source": [
    "df['Temperature'] = df['Temperature'].astype(int)\n",
    "df['RH'] = df['RH'].astype(int)\n",
    "df['Ws'] = df['Ws'].astype(int)\n",
    "df['Rain'] = df['Rain'].astype(float)\n",
    "df['FFMC'] = df['FFMC'].astype(float)"
   ]
  },
  {
   "cell_type": "code",
   "execution_count": 18,
   "id": "6080a614",
   "metadata": {},
   "outputs": [],
   "source": [
    "df['DMC'] = df['DMC'].astype(float)\n",
    "df['ISI'] = df['ISI'].astype(float)\n",
    "df['BUI'] = df['BUI'].astype(float)\n",
    "df['DC'] = df['DC'].astype(float)\n",
    "df['FWI'] = df['FWI'].astype(float)\n"
   ]
  },
  {
   "cell_type": "code",
   "execution_count": 19,
   "id": "4b57227a",
   "metadata": {},
   "outputs": [
    {
     "data": {
      "text/plain": [
       "Temperature             int32\n",
       "RH                      int32\n",
       "Ws                      int32\n",
       "Rain                  float64\n",
       "FFMC                  float64\n",
       "DMC                   float64\n",
       "DC                    float64\n",
       "ISI                   float64\n",
       "BUI                   float64\n",
       "FWI                   float64\n",
       "Classes               float64\n",
       "region                 object\n",
       "date           datetime64[ns]\n",
       "dtype: object"
      ]
     },
     "execution_count": 19,
     "metadata": {},
     "output_type": "execute_result"
    }
   ],
   "source": [
    "df.dtypes"
   ]
  },
  {
   "cell_type": "markdown",
   "id": "727d1cc1",
   "metadata": {},
   "source": [
    "### lets use label encoder for converting catogorical or taxt values to numericals , which is best for feeding data ml algorithum  \n",
    "\n",
    "### in the begining we manually encoded the data , now we are using tool to encode data"
   ]
  },
  {
   "cell_type": "code",
   "execution_count": 20,
   "id": "71290503",
   "metadata": {},
   "outputs": [],
   "source": [
    "from sklearn.preprocessing import LabelEncoder\n",
    "LE = LabelEncoder()"
   ]
  },
  {
   "cell_type": "code",
   "execution_count": 21,
   "id": "076d0683",
   "metadata": {},
   "outputs": [],
   "source": [
    "df['region']= LE.fit_transform(df['region'])"
   ]
  },
  {
   "cell_type": "code",
   "execution_count": 22,
   "id": "bbd9b3e1",
   "metadata": {},
   "outputs": [
    {
     "data": {
      "text/html": [
       "<div>\n",
       "<style scoped>\n",
       "    .dataframe tbody tr th:only-of-type {\n",
       "        vertical-align: middle;\n",
       "    }\n",
       "\n",
       "    .dataframe tbody tr th {\n",
       "        vertical-align: top;\n",
       "    }\n",
       "\n",
       "    .dataframe thead th {\n",
       "        text-align: right;\n",
       "    }\n",
       "</style>\n",
       "<table border=\"1\" class=\"dataframe\">\n",
       "  <thead>\n",
       "    <tr style=\"text-align: right;\">\n",
       "      <th></th>\n",
       "      <th>Temperature</th>\n",
       "      <th>RH</th>\n",
       "      <th>Ws</th>\n",
       "      <th>Rain</th>\n",
       "      <th>FFMC</th>\n",
       "      <th>DMC</th>\n",
       "      <th>DC</th>\n",
       "      <th>ISI</th>\n",
       "      <th>BUI</th>\n",
       "      <th>FWI</th>\n",
       "      <th>Classes</th>\n",
       "      <th>region</th>\n",
       "      <th>date</th>\n",
       "    </tr>\n",
       "  </thead>\n",
       "  <tbody>\n",
       "    <tr>\n",
       "      <th>0</th>\n",
       "      <td>29</td>\n",
       "      <td>57</td>\n",
       "      <td>18</td>\n",
       "      <td>0.0</td>\n",
       "      <td>65.7</td>\n",
       "      <td>3.4</td>\n",
       "      <td>7.6</td>\n",
       "      <td>1.3</td>\n",
       "      <td>3.4</td>\n",
       "      <td>0.5</td>\n",
       "      <td>0.0</td>\n",
       "      <td>1</td>\n",
       "      <td>2012-06-01</td>\n",
       "    </tr>\n",
       "    <tr>\n",
       "      <th>1</th>\n",
       "      <td>29</td>\n",
       "      <td>61</td>\n",
       "      <td>13</td>\n",
       "      <td>1.3</td>\n",
       "      <td>64.4</td>\n",
       "      <td>4.1</td>\n",
       "      <td>7.6</td>\n",
       "      <td>1.0</td>\n",
       "      <td>3.9</td>\n",
       "      <td>0.4</td>\n",
       "      <td>0.0</td>\n",
       "      <td>1</td>\n",
       "      <td>2012-06-02</td>\n",
       "    </tr>\n",
       "    <tr>\n",
       "      <th>2</th>\n",
       "      <td>26</td>\n",
       "      <td>82</td>\n",
       "      <td>22</td>\n",
       "      <td>13.1</td>\n",
       "      <td>47.1</td>\n",
       "      <td>2.5</td>\n",
       "      <td>7.1</td>\n",
       "      <td>0.3</td>\n",
       "      <td>2.7</td>\n",
       "      <td>0.1</td>\n",
       "      <td>0.0</td>\n",
       "      <td>1</td>\n",
       "      <td>2012-06-03</td>\n",
       "    </tr>\n",
       "    <tr>\n",
       "      <th>3</th>\n",
       "      <td>25</td>\n",
       "      <td>89</td>\n",
       "      <td>13</td>\n",
       "      <td>2.5</td>\n",
       "      <td>28.6</td>\n",
       "      <td>1.3</td>\n",
       "      <td>6.9</td>\n",
       "      <td>0.0</td>\n",
       "      <td>1.7</td>\n",
       "      <td>0.0</td>\n",
       "      <td>0.0</td>\n",
       "      <td>1</td>\n",
       "      <td>2012-06-04</td>\n",
       "    </tr>\n",
       "    <tr>\n",
       "      <th>4</th>\n",
       "      <td>27</td>\n",
       "      <td>77</td>\n",
       "      <td>16</td>\n",
       "      <td>0.0</td>\n",
       "      <td>64.8</td>\n",
       "      <td>3.0</td>\n",
       "      <td>14.2</td>\n",
       "      <td>1.2</td>\n",
       "      <td>3.9</td>\n",
       "      <td>0.5</td>\n",
       "      <td>0.0</td>\n",
       "      <td>1</td>\n",
       "      <td>2012-06-05</td>\n",
       "    </tr>\n",
       "  </tbody>\n",
       "</table>\n",
       "</div>"
      ],
      "text/plain": [
       "   Temperature  RH  Ws  Rain  FFMC  DMC    DC  ISI  BUI  FWI  Classes  region  \\\n",
       "0           29  57  18   0.0  65.7  3.4   7.6  1.3  3.4  0.5      0.0       1   \n",
       "1           29  61  13   1.3  64.4  4.1   7.6  1.0  3.9  0.4      0.0       1   \n",
       "2           26  82  22  13.1  47.1  2.5   7.1  0.3  2.7  0.1      0.0       1   \n",
       "3           25  89  13   2.5  28.6  1.3   6.9  0.0  1.7  0.0      0.0       1   \n",
       "4           27  77  16   0.0  64.8  3.0  14.2  1.2  3.9  0.5      0.0       1   \n",
       "\n",
       "        date  \n",
       "0 2012-06-01  \n",
       "1 2012-06-02  \n",
       "2 2012-06-03  \n",
       "3 2012-06-04  \n",
       "4 2012-06-05  "
      ]
     },
     "execution_count": 22,
     "metadata": {},
     "output_type": "execute_result"
    }
   ],
   "source": [
    "df.head()"
   ]
  },
  {
   "cell_type": "markdown",
   "id": "5123a29f",
   "metadata": {},
   "source": [
    "## Uni Variate analysis"
   ]
  },
  {
   "cell_type": "code",
   "execution_count": 23,
   "id": "0591ef4d",
   "metadata": {},
   "outputs": [],
   "source": [
    "feature = [i for i in df.columns if df[i].dtype != 'O']"
   ]
  },
  {
   "cell_type": "code",
   "execution_count": 24,
   "id": "6d64b0b7",
   "metadata": {},
   "outputs": [
    {
     "data": {
      "text/plain": [
       "['Temperature',\n",
       " 'RH',\n",
       " 'Ws',\n",
       " 'Rain',\n",
       " 'FFMC',\n",
       " 'DMC',\n",
       " 'DC',\n",
       " 'ISI',\n",
       " 'BUI',\n",
       " 'FWI',\n",
       " 'Classes',\n",
       " 'region',\n",
       " 'date']"
      ]
     },
     "execution_count": 24,
     "metadata": {},
     "output_type": "execute_result"
    }
   ],
   "source": [
    "feature"
   ]
  },
  {
   "cell_type": "code",
   "execution_count": 25,
   "id": "6d810161",
   "metadata": {},
   "outputs": [
    {
     "data": {
      "image/png": "[encoded data removed]",
      "text/plain": [
       "<Figure size 1080x1080 with 13 Axes>"
      ]
     },
     "metadata": {
      "needs_background": "light"
     },
     "output_type": "display_data"
    }
   ],
   "source": [
    "plt.figure(figsize =(15,15))\n",
    "plt.suptitle('Uni Variate Analysis of Numerical Features', fontsize = 20 )\n",
    "\n",
    "for i in range(0, len(feature)):\n",
    "    plt.subplot(5,3,i+1)\n",
    "    sns.kdeplot(x= df[feature[i]],shade = True, color = 'b')\n",
    "    plt.xlabel(feature[i])\n",
    "    plt.tight_layout()"
   ]
  },
  {
   "cell_type": "markdown",
   "id": "17a2841d",
   "metadata": {},
   "source": [
    "### Visualizing Target Feture"
   ]
  },
  {
   "cell_type": "code",
   "execution_count": 26,
   "id": "832e3b72",
   "metadata": {},
   "outputs": [
    {
     "data": {
      "image/png": "[encoded data removed]",
      "text/plain": [
       "<Figure size 1008x504 with 1 Axes>"
      ]
     },
     "metadata": {
      "needs_background": "light"
     },
     "output_type": "display_data"
    }
   ],
   "source": [
    "plt.subplots(figsize=(14,7))\n",
    "sns.histplot(x=df.Temperature,ec = 'black', color = 'blue', kde= True)\n",
    "plt.title('Temperature Distrubtion', weight = 'bold',fontsize = 20, pad = 20)\n",
    "plt.ylabel('No of days', weight = 'bold',fontsize = 15)\n",
    "plt.xlabel('Temperatures', weight = 'bold',fontsize = 15)\n",
    "plt.show()"
   ]
  },
  {
   "cell_type": "markdown",
   "id": "977d8784",
   "metadata": {},
   "source": [
    "###   Observation: More ofen temperature is in range of 27.5 to 37"
   ]
  },
  {
   "cell_type": "markdown",
   "id": "0e93ae72",
   "metadata": {},
   "source": [
    "###  .."
   ]
  },
  {
   "cell_type": "markdown",
   "id": "53864b41",
   "metadata": {},
   "source": [
    "### Temperauture vs Rain"
   ]
  },
  {
   "cell_type": "code",
   "execution_count": 27,
   "id": "a9507d57",
   "metadata": {},
   "outputs": [
    {
     "data": {
      "text/plain": [
       "<AxesSubplot:xlabel='Temperature', ylabel='Rain'>"
      ]
     },
     "execution_count": 27,
     "metadata": {},
     "output_type": "execute_result"
    },
    {
     "data": {
      "image/png": "[encoded data removed]",
      "text/plain": [
       "<Figure size 1080x720 with 1 Axes>"
      ]
     },
     "metadata": {
      "needs_background": "light"
     },
     "output_type": "display_data"
    }
   ],
   "source": [
    "plt.subplots(figsize=(15,10))\n",
    "sns.barplot(x = 'Temperature', y = 'Rain', data = df)"
   ]
  },
  {
   "cell_type": "markdown",
   "id": "0bd53d43",
   "metadata": {},
   "source": [
    "### Observation: When temparures are in 22 most rain occured"
   ]
  },
  {
   "cell_type": "markdown",
   "id": "cf44d3b2",
   "metadata": {},
   "source": [
    "# Which region has most temperature?"
   ]
  },
  {
   "cell_type": "code",
   "execution_count": 28,
   "id": "16ebfd40",
   "metadata": {},
   "outputs": [
    {
     "data": {
      "text/plain": [
       "<AxesSubplot:xlabel='region', ylabel='Temperature'>"
      ]
     },
     "execution_count": 28,
     "metadata": {},
     "output_type": "execute_result"
    },
    {
     "data": {
      "image/png": "[encoded data removed]",
      "text/plain": [
       "<Figure size 1080x504 with 1 Axes>"
      ]
     },
     "metadata": {
      "needs_background": "light"
     },
     "output_type": "display_data"
    }
   ],
   "source": [
    "plt.subplots(figsize=(15,7))\n",
    "sns.barplot(x = 'region', y = 'Temperature', data = df)"
   ]
  },
  {
   "cell_type": "markdown",
   "id": "f5429355",
   "metadata": {},
   "source": [
    "### Observation: region 0 i.e. 'Sidi-Bel Abbes' has highest temperature"
   ]
  },
  {
   "cell_type": "markdown",
   "id": "ac75fe86",
   "metadata": {},
   "source": [
    "### correlation of features"
   ]
  },
  {
   "cell_type": "code",
   "execution_count": 29,
   "id": "6f3850e5",
   "metadata": {},
   "outputs": [
    {
     "data": {
      "text/html": [
       "<div>\n",
       "<style scoped>\n",
       "    .dataframe tbody tr th:only-of-type {\n",
       "        vertical-align: middle;\n",
       "    }\n",
       "\n",
       "    .dataframe tbody tr th {\n",
       "        vertical-align: top;\n",
       "    }\n",
       "\n",
       "    .dataframe thead th {\n",
       "        text-align: right;\n",
       "    }\n",
       "</style>\n",
       "<table border=\"1\" class=\"dataframe\">\n",
       "  <thead>\n",
       "    <tr style=\"text-align: right;\">\n",
       "      <th></th>\n",
       "      <th>Temperature</th>\n",
       "      <th>RH</th>\n",
       "      <th>Ws</th>\n",
       "      <th>Rain</th>\n",
       "      <th>FFMC</th>\n",
       "      <th>DMC</th>\n",
       "      <th>DC</th>\n",
       "      <th>ISI</th>\n",
       "      <th>BUI</th>\n",
       "      <th>FWI</th>\n",
       "      <th>Classes</th>\n",
       "      <th>region</th>\n",
       "    </tr>\n",
       "  </thead>\n",
       "  <tbody>\n",
       "    <tr>\n",
       "      <th>Temperature</th>\n",
       "      <td>1.000000</td>\n",
       "      <td>-0.651400</td>\n",
       "      <td>-0.284510</td>\n",
       "      <td>-0.326492</td>\n",
       "      <td>0.676568</td>\n",
       "      <td>0.485687</td>\n",
       "      <td>0.376284</td>\n",
       "      <td>0.603871</td>\n",
       "      <td>0.459789</td>\n",
       "      <td>0.566670</td>\n",
       "      <td>0.516015</td>\n",
       "      <td>-0.269555</td>\n",
       "    </tr>\n",
       "    <tr>\n",
       "      <th>RH</th>\n",
       "      <td>-0.651400</td>\n",
       "      <td>1.000000</td>\n",
       "      <td>0.244048</td>\n",
       "      <td>0.222356</td>\n",
       "      <td>-0.644873</td>\n",
       "      <td>-0.408519</td>\n",
       "      <td>-0.226941</td>\n",
       "      <td>-0.686667</td>\n",
       "      <td>-0.353841</td>\n",
       "      <td>-0.580957</td>\n",
       "      <td>-0.432161</td>\n",
       "      <td>0.402682</td>\n",
       "    </tr>\n",
       "    <tr>\n",
       "      <th>Ws</th>\n",
       "      <td>-0.284510</td>\n",
       "      <td>0.244048</td>\n",
       "      <td>1.000000</td>\n",
       "      <td>0.171506</td>\n",
       "      <td>-0.166548</td>\n",
       "      <td>-0.000721</td>\n",
       "      <td>0.079135</td>\n",
       "      <td>0.008532</td>\n",
       "      <td>0.031438</td>\n",
       "      <td>0.032368</td>\n",
       "      <td>-0.069964</td>\n",
       "      <td>0.181160</td>\n",
       "    </tr>\n",
       "    <tr>\n",
       "      <th>Rain</th>\n",
       "      <td>-0.326492</td>\n",
       "      <td>0.222356</td>\n",
       "      <td>0.171506</td>\n",
       "      <td>1.000000</td>\n",
       "      <td>-0.543906</td>\n",
       "      <td>-0.288773</td>\n",
       "      <td>-0.298023</td>\n",
       "      <td>-0.347484</td>\n",
       "      <td>-0.299852</td>\n",
       "      <td>-0.324422</td>\n",
       "      <td>-0.379097</td>\n",
       "      <td>0.040013</td>\n",
       "    </tr>\n",
       "    <tr>\n",
       "      <th>FFMC</th>\n",
       "      <td>0.676568</td>\n",
       "      <td>-0.644873</td>\n",
       "      <td>-0.166548</td>\n",
       "      <td>-0.543906</td>\n",
       "      <td>1.000000</td>\n",
       "      <td>0.603608</td>\n",
       "      <td>0.507397</td>\n",
       "      <td>0.740007</td>\n",
       "      <td>0.592011</td>\n",
       "      <td>0.691132</td>\n",
       "      <td>0.769492</td>\n",
       "      <td>-0.222241</td>\n",
       "    </tr>\n",
       "    <tr>\n",
       "      <th>DMC</th>\n",
       "      <td>0.485687</td>\n",
       "      <td>-0.408519</td>\n",
       "      <td>-0.000721</td>\n",
       "      <td>-0.288773</td>\n",
       "      <td>0.603608</td>\n",
       "      <td>1.000000</td>\n",
       "      <td>0.875925</td>\n",
       "      <td>0.680454</td>\n",
       "      <td>0.982248</td>\n",
       "      <td>0.875864</td>\n",
       "      <td>0.585658</td>\n",
       "      <td>-0.192089</td>\n",
       "    </tr>\n",
       "    <tr>\n",
       "      <th>DC</th>\n",
       "      <td>0.376284</td>\n",
       "      <td>-0.226941</td>\n",
       "      <td>0.079135</td>\n",
       "      <td>-0.298023</td>\n",
       "      <td>0.507397</td>\n",
       "      <td>0.875925</td>\n",
       "      <td>1.000000</td>\n",
       "      <td>0.508643</td>\n",
       "      <td>0.941988</td>\n",
       "      <td>0.739521</td>\n",
       "      <td>0.511123</td>\n",
       "      <td>0.078734</td>\n",
       "    </tr>\n",
       "    <tr>\n",
       "      <th>ISI</th>\n",
       "      <td>0.603871</td>\n",
       "      <td>-0.686667</td>\n",
       "      <td>0.008532</td>\n",
       "      <td>-0.347484</td>\n",
       "      <td>0.740007</td>\n",
       "      <td>0.680454</td>\n",
       "      <td>0.508643</td>\n",
       "      <td>1.000000</td>\n",
       "      <td>0.644093</td>\n",
       "      <td>0.922895</td>\n",
       "      <td>0.735197</td>\n",
       "      <td>-0.263197</td>\n",
       "    </tr>\n",
       "    <tr>\n",
       "      <th>BUI</th>\n",
       "      <td>0.459789</td>\n",
       "      <td>-0.353841</td>\n",
       "      <td>0.031438</td>\n",
       "      <td>-0.299852</td>\n",
       "      <td>0.592011</td>\n",
       "      <td>0.982248</td>\n",
       "      <td>0.941988</td>\n",
       "      <td>0.644093</td>\n",
       "      <td>1.000000</td>\n",
       "      <td>0.857973</td>\n",
       "      <td>0.586639</td>\n",
       "      <td>-0.089408</td>\n",
       "    </tr>\n",
       "    <tr>\n",
       "      <th>FWI</th>\n",
       "      <td>0.566670</td>\n",
       "      <td>-0.580957</td>\n",
       "      <td>0.032368</td>\n",
       "      <td>-0.324422</td>\n",
       "      <td>0.691132</td>\n",
       "      <td>0.875864</td>\n",
       "      <td>0.739521</td>\n",
       "      <td>0.922895</td>\n",
       "      <td>0.857973</td>\n",
       "      <td>1.000000</td>\n",
       "      <td>0.719216</td>\n",
       "      <td>-0.197102</td>\n",
       "    </tr>\n",
       "    <tr>\n",
       "      <th>Classes</th>\n",
       "      <td>0.516015</td>\n",
       "      <td>-0.432161</td>\n",
       "      <td>-0.069964</td>\n",
       "      <td>-0.379097</td>\n",
       "      <td>0.769492</td>\n",
       "      <td>0.585658</td>\n",
       "      <td>0.511123</td>\n",
       "      <td>0.735197</td>\n",
       "      <td>0.586639</td>\n",
       "      <td>0.719216</td>\n",
       "      <td>1.000000</td>\n",
       "      <td>-0.162347</td>\n",
       "    </tr>\n",
       "    <tr>\n",
       "      <th>region</th>\n",
       "      <td>-0.269555</td>\n",
       "      <td>0.402682</td>\n",
       "      <td>0.181160</td>\n",
       "      <td>0.040013</td>\n",
       "      <td>-0.222241</td>\n",
       "      <td>-0.192089</td>\n",
       "      <td>0.078734</td>\n",
       "      <td>-0.263197</td>\n",
       "      <td>-0.089408</td>\n",
       "      <td>-0.197102</td>\n",
       "      <td>-0.162347</td>\n",
       "      <td>1.000000</td>\n",
       "    </tr>\n",
       "  </tbody>\n",
       "</table>\n",
       "</div>"
      ],
      "text/plain": [
       "             Temperature        RH        Ws      Rain      FFMC       DMC  \\\n",
       "Temperature     1.000000 -0.651400 -0.284510 -0.326492  0.676568  0.485687   \n",
       "RH             -0.651400  1.000000  0.244048  0.222356 -0.644873 -0.408519   \n",
       "Ws             -0.284510  0.244048  1.000000  0.171506 -0.166548 -0.000721   \n",
       "Rain           -0.326492  0.222356  0.171506  1.000000 -0.543906 -0.288773   \n",
       "FFMC            0.676568 -0.644873 -0.166548 -0.543906  1.000000  0.603608   \n",
       "DMC             0.485687 -0.408519 -0.000721 -0.288773  0.603608  1.000000   \n",
       "DC              0.376284 -0.226941  0.079135 -0.298023  0.507397  0.875925   \n",
       "ISI             0.603871 -0.686667  0.008532 -0.347484  0.740007  0.680454   \n",
       "BUI             0.459789 -0.353841  0.031438 -0.299852  0.592011  0.982248   \n",
       "FWI             0.566670 -0.580957  0.032368 -0.324422  0.691132  0.875864   \n",
       "Classes         0.516015 -0.432161 -0.069964 -0.379097  0.769492  0.585658   \n",
       "region         -0.269555  0.402682  0.181160  0.040013 -0.222241 -0.192089   \n",
       "\n",
       "                   DC       ISI       BUI       FWI   Classes    region  \n",
       "Temperature  0.376284  0.603871  0.459789  0.566670  0.516015 -0.269555  \n",
       "RH          -0.226941 -0.686667 -0.353841 -0.580957 -0.432161  0.402682  \n",
       "Ws           0.079135  0.008532  0.031438  0.032368 -0.069964  0.181160  \n",
       "Rain        -0.298023 -0.347484 -0.299852 -0.324422 -0.379097  0.040013  \n",
       "FFMC         0.507397  0.740007  0.592011  0.691132  0.769492 -0.222241  \n",
       "DMC          0.875925  0.680454  0.982248  0.875864  0.585658 -0.192089  \n",
       "DC           1.000000  0.508643  0.941988  0.739521  0.511123  0.078734  \n",
       "ISI          0.508643  1.000000  0.644093  0.922895  0.735197 -0.263197  \n",
       "BUI          0.941988  0.644093  1.000000  0.857973  0.586639 -0.089408  \n",
       "FWI          0.739521  0.922895  0.857973  1.000000  0.719216 -0.197102  \n",
       "Classes      0.511123  0.735197  0.586639  0.719216  1.000000 -0.162347  \n",
       "region       0.078734 -0.263197 -0.089408 -0.197102 -0.162347  1.000000  "
      ]
     },
     "execution_count": 29,
     "metadata": {},
     "output_type": "execute_result"
    }
   ],
   "source": [
    "df.corr()"
   ]
  },
  {
   "cell_type": "code",
   "execution_count": 30,
   "id": "8e371bc2",
   "metadata": {},
   "outputs": [
    {
     "data": {
      "text/plain": [
       "<AxesSubplot:>"
      ]
     },
     "execution_count": 30,
     "metadata": {},
     "output_type": "execute_result"
    },
    {
     "data": {
      "image/png": "[encoded data removed]",
      "text/plain": [
       "<Figure size 720x576 with 2 Axes>"
      ]
     },
     "metadata": {
      "needs_background": "light"
     },
     "output_type": "display_data"
    }
   ],
   "source": [
    "plt.figure(figsize = (10,8))\n",
    "sns.heatmap(df.corr())"
   ]
  },
  {
   "cell_type": "markdown",
   "id": "662197b7",
   "metadata": {},
   "source": [
    "# Temperature Vs date feature"
   ]
  },
  {
   "cell_type": "code",
   "execution_count": 31,
   "id": "8654a092",
   "metadata": {
    "scrolled": true
   },
   "outputs": [
    {
     "data": {
      "text/plain": [
       "<AxesSubplot:xlabel='Temperature', ylabel='date'>"
      ]
     },
     "execution_count": 31,
     "metadata": {},
     "output_type": "execute_result"
    },
    {
     "data": {
      "image/png": "[encoded data removed]",
      "text/plain": [
       "<Figure size 1080x504 with 1 Axes>"
      ]
     },
     "metadata": {
      "needs_background": "light"
     },
     "output_type": "display_data"
    }
   ],
   "source": [
    "plt.subplots(figsize=(15,7))\n",
    "sns.lineplot(x = 'Temperature', y = 'date', data = df)"
   ]
  },
  {
   "cell_type": "markdown",
   "id": "06056e17",
   "metadata": {},
   "source": [
    "# Temperature Vs FFMC feature"
   ]
  },
  {
   "cell_type": "code",
   "execution_count": 32,
   "id": "bb663fd3",
   "metadata": {},
   "outputs": [
    {
     "data": {
      "text/plain": [
       "<seaborn.axisgrid.JointGrid at 0x15af0db3130>"
      ]
     },
     "execution_count": 32,
     "metadata": {},
     "output_type": "execute_result"
    },
    {
     "data": {
      "image/png": "[encoded data removed]",
      "text/plain": [
       "<Figure size 432x432 with 3 Axes>"
      ]
     },
     "metadata": {
      "needs_background": "light"
     },
     "output_type": "display_data"
    }
   ],
   "source": [
    "\n",
    "sns.jointplot(x = 'Temperature', y = 'FFMC', data = df)"
   ]
  },
  {
   "cell_type": "markdown",
   "id": "f29e669f",
   "metadata": {},
   "source": [
    "# Temperature Vs ISI feature"
   ]
  },
  {
   "cell_type": "code",
   "execution_count": 33,
   "id": "a1bd534c",
   "metadata": {},
   "outputs": [
    {
     "data": {
      "text/plain": [
       "<AxesSubplot:xlabel='Temperature', ylabel='ISI'>"
      ]
     },
     "execution_count": 33,
     "metadata": {},
     "output_type": "execute_result"
    },
    {
     "data": {
      "image/png": "[encoded data removed]",
      "text/plain": [
       "<Figure size 720x720 with 1 Axes>"
      ]
     },
     "metadata": {
      "needs_background": "light"
     },
     "output_type": "display_data"
    }
   ],
   "source": [
    "plt.subplots(figsize=(10,10))\n",
    "sns.regplot(x = 'Temperature', y = 'ISI', data = df)"
   ]
  },
  {
   "cell_type": "markdown",
   "id": "40934067",
   "metadata": {},
   "source": [
    "### Checking the  outliers of the target \"  Temperature \" feature"
   ]
  },
  {
   "cell_type": "code",
   "execution_count": 34,
   "id": "294e7b0e",
   "metadata": {},
   "outputs": [
    {
     "data": {
      "text/plain": [
       "<AxesSubplot:xlabel='Temperature'>"
      ]
     },
     "execution_count": 34,
     "metadata": {},
     "output_type": "execute_result"
    },
    {
     "data": {
      "image/png": "[encoded data removed]",
      "text/plain": [
       "<Figure size 432x288 with 1 Axes>"
      ]
     },
     "metadata": {
      "needs_background": "light"
     },
     "output_type": "display_data"
    }
   ],
   "source": [
    "sns.boxplot(df['Temperature'])"
   ]
  },
  {
   "cell_type": "markdown",
   "id": "925b40ec",
   "metadata": {},
   "source": [
    "## Boxplot of Rain vs Temperature"
   ]
  },
  {
   "cell_type": "code",
   "execution_count": 35,
   "id": "634face3",
   "metadata": {},
   "outputs": [
    {
     "data": {
      "text/plain": [
       "<AxesSubplot:xlabel='Temperature', ylabel='Rain'>"
      ]
     },
     "execution_count": 35,
     "metadata": {},
     "output_type": "execute_result"
    },
    {
     "data": {
      "image/png": "[encoded data removed]",
      "text/plain": [
       "<Figure size 1080x720 with 1 Axes>"
      ]
     },
     "metadata": {
      "needs_background": "light"
     },
     "output_type": "display_data"
    }
   ],
   "source": [
    "plt.subplots(figsize=(15,10))\n",
    "sns.boxplot(x= 'Temperature', y = 'Rain', data = df)"
   ]
  },
  {
   "cell_type": "markdown",
   "id": "eb26af79",
   "metadata": {},
   "source": [
    "## Boxplot of FFMC vs Temperature"
   ]
  },
  {
   "cell_type": "code",
   "execution_count": 36,
   "id": "050e31ac",
   "metadata": {},
   "outputs": [
    {
     "data": {
      "text/plain": [
       "<AxesSubplot:xlabel='Temperature', ylabel='FFMC'>"
      ]
     },
     "execution_count": 36,
     "metadata": {},
     "output_type": "execute_result"
    },
    {
     "data": {
      "image/png": "[encoded data removed]",
      "text/plain": [
       "<Figure size 1080x720 with 1 Axes>"
      ]
     },
     "metadata": {
      "needs_background": "light"
     },
     "output_type": "display_data"
    }
   ],
   "source": [
    "plt.subplots(figsize=(15,10))\n",
    "sns.boxplot(x= 'Temperature', y = 'FFMC', data = df)"
   ]
  },
  {
   "cell_type": "markdown",
   "id": "aa46793b",
   "metadata": {},
   "source": [
    "## Boxplot of ISI vs Temperature"
   ]
  },
  {
   "cell_type": "code",
   "execution_count": 37,
   "id": "36858f6b",
   "metadata": {},
   "outputs": [
    {
     "data": {
      "text/plain": [
       "<AxesSubplot:xlabel='Temperature', ylabel='ISI'>"
      ]
     },
     "execution_count": 37,
     "metadata": {},
     "output_type": "execute_result"
    },
    {
     "data": {
      "image/png": "[encoded data removed]",
      "text/plain": [
       "<Figure size 1080x720 with 1 Axes>"
      ]
     },
     "metadata": {
      "needs_background": "light"
     },
     "output_type": "display_data"
    }
   ],
   "source": [
    "plt.subplots(figsize=(15,10))\n",
    "sns.boxplot(x= 'Temperature', y = 'ISI', data = df)"
   ]
  },
  {
   "cell_type": "markdown",
   "id": "3a3dd5c5",
   "metadata": {},
   "source": [
    "## Boxplot of Region vs Temperature"
   ]
  },
  {
   "cell_type": "code",
   "execution_count": 38,
   "id": "7195fcf2",
   "metadata": {},
   "outputs": [
    {
     "data": {
      "text/plain": [
       "<AxesSubplot:xlabel='region', ylabel='Temperature'>"
      ]
     },
     "execution_count": 38,
     "metadata": {},
     "output_type": "execute_result"
    },
    {
     "data": {
      "image/png": "[encoded data removed]",
      "text/plain": [
       "<Figure size 1080x720 with 1 Axes>"
      ]
     },
     "metadata": {
      "needs_background": "light"
     },
     "output_type": "display_data"
    }
   ],
   "source": [
    "plt.subplots(figsize=(15,10))\n",
    "sns.boxplot(x= 'region', y = 'Temperature', data = df)"
   ]
  },
  {
   "cell_type": "markdown",
   "id": "6879a4fe",
   "metadata": {},
   "source": [
    "## Boxplot of BUI vs Temperature"
   ]
  },
  {
   "cell_type": "code",
   "execution_count": 39,
   "id": "c27f33fa",
   "metadata": {},
   "outputs": [
    {
     "data": {
      "text/plain": [
       "<AxesSubplot:xlabel='Temperature', ylabel='BUI'>"
      ]
     },
     "execution_count": 39,
     "metadata": {},
     "output_type": "execute_result"
    },
    {
     "data": {
      "image/png": "[encoded data removed]",
      "text/plain": [
       "<Figure size 1080x720 with 1 Axes>"
      ]
     },
     "metadata": {
      "needs_background": "light"
     },
     "output_type": "display_data"
    }
   ],
   "source": [
    "plt.subplots(figsize=(15,10))\n",
    "sns.boxplot(x= 'Temperature', y = 'BUI', data = df)"
   ]
  },
  {
   "cell_type": "markdown",
   "id": "84ebf129",
   "metadata": {},
   "source": [
    "## Boxplot of DMC vs Temperature"
   ]
  },
  {
   "cell_type": "code",
   "execution_count": 40,
   "id": "ce5eff6d",
   "metadata": {},
   "outputs": [
    {
     "data": {
      "text/plain": [
       "<AxesSubplot:xlabel='Temperature', ylabel='DMC'>"
      ]
     },
     "execution_count": 40,
     "metadata": {},
     "output_type": "execute_result"
    },
    {
     "data": {
      "image/png": "[encoded data removed]",
      "text/plain": [
       "<Figure size 1080x720 with 1 Axes>"
      ]
     },
     "metadata": {
      "needs_background": "light"
     },
     "output_type": "display_data"
    }
   ],
   "source": [
    "plt.subplots(figsize=(15,10))\n",
    "sns.boxplot(x= 'Temperature', y = 'DMC', data = df)"
   ]
  },
  {
   "cell_type": "markdown",
   "id": "8a778d93",
   "metadata": {},
   "source": [
    "## Model Training"
   ]
  },
  {
   "cell_type": "markdown",
   "id": "8dff0cb9",
   "metadata": {},
   "source": [
    "### Creating Dependent & Independent Features"
   ]
  },
  {
   "cell_type": "code",
   "execution_count": 41,
   "id": "9e2d10c4",
   "metadata": {},
   "outputs": [
    {
     "data": {
      "text/plain": [
       "Index(['Temperature', 'RH', 'Ws', 'Rain', 'FFMC', 'DMC', 'DC', 'ISI', 'BUI',\n",
       "       'FWI', 'Classes', 'region', 'date'],\n",
       "      dtype='object')"
      ]
     },
     "execution_count": 41,
     "metadata": {},
     "output_type": "execute_result"
    }
   ],
   "source": [
    "df.columns"
   ]
  },
  {
   "cell_type": "code",
   "execution_count": 42,
   "id": "7c37a220",
   "metadata": {},
   "outputs": [],
   "source": [
    "## independent Features  Here classes is being excluded since fire and no fire condition\n",
    "\n",
    "x = pd.DataFrame(df, columns= ['RH', 'Ws', 'Rain', 'FFMC', 'DMC', 'DC', 'ISI', 'BUI','FWI', 'region'])\n",
    "\n",
    "## Dependent Feature\n",
    "\n",
    "y = pd.DataFrame(df, columns = ['Temperature'])"
   ]
  },
  {
   "cell_type": "code",
   "execution_count": 43,
   "id": "f37f86b0",
   "metadata": {},
   "outputs": [
    {
     "data": {
      "text/html": [
       "<div>\n",
       "<style scoped>\n",
       "    .dataframe tbody tr th:only-of-type {\n",
       "        vertical-align: middle;\n",
       "    }\n",
       "\n",
       "    .dataframe tbody tr th {\n",
       "        vertical-align: top;\n",
       "    }\n",
       "\n",
       "    .dataframe thead th {\n",
       "        text-align: right;\n",
       "    }\n",
       "</style>\n",
       "<table border=\"1\" class=\"dataframe\">\n",
       "  <thead>\n",
       "    <tr style=\"text-align: right;\">\n",
       "      <th></th>\n",
       "      <th>RH</th>\n",
       "      <th>Ws</th>\n",
       "      <th>Rain</th>\n",
       "      <th>FFMC</th>\n",
       "      <th>DMC</th>\n",
       "      <th>DC</th>\n",
       "      <th>ISI</th>\n",
       "      <th>BUI</th>\n",
       "      <th>FWI</th>\n",
       "      <th>region</th>\n",
       "    </tr>\n",
       "  </thead>\n",
       "  <tbody>\n",
       "    <tr>\n",
       "      <th>0</th>\n",
       "      <td>57</td>\n",
       "      <td>18</td>\n",
       "      <td>0.0</td>\n",
       "      <td>65.7</td>\n",
       "      <td>3.4</td>\n",
       "      <td>7.6</td>\n",
       "      <td>1.3</td>\n",
       "      <td>3.4</td>\n",
       "      <td>0.5</td>\n",
       "      <td>1</td>\n",
       "    </tr>\n",
       "    <tr>\n",
       "      <th>1</th>\n",
       "      <td>61</td>\n",
       "      <td>13</td>\n",
       "      <td>1.3</td>\n",
       "      <td>64.4</td>\n",
       "      <td>4.1</td>\n",
       "      <td>7.6</td>\n",
       "      <td>1.0</td>\n",
       "      <td>3.9</td>\n",
       "      <td>0.4</td>\n",
       "      <td>1</td>\n",
       "    </tr>\n",
       "    <tr>\n",
       "      <th>2</th>\n",
       "      <td>82</td>\n",
       "      <td>22</td>\n",
       "      <td>13.1</td>\n",
       "      <td>47.1</td>\n",
       "      <td>2.5</td>\n",
       "      <td>7.1</td>\n",
       "      <td>0.3</td>\n",
       "      <td>2.7</td>\n",
       "      <td>0.1</td>\n",
       "      <td>1</td>\n",
       "    </tr>\n",
       "    <tr>\n",
       "      <th>3</th>\n",
       "      <td>89</td>\n",
       "      <td>13</td>\n",
       "      <td>2.5</td>\n",
       "      <td>28.6</td>\n",
       "      <td>1.3</td>\n",
       "      <td>6.9</td>\n",
       "      <td>0.0</td>\n",
       "      <td>1.7</td>\n",
       "      <td>0.0</td>\n",
       "      <td>1</td>\n",
       "    </tr>\n",
       "    <tr>\n",
       "      <th>4</th>\n",
       "      <td>77</td>\n",
       "      <td>16</td>\n",
       "      <td>0.0</td>\n",
       "      <td>64.8</td>\n",
       "      <td>3.0</td>\n",
       "      <td>14.2</td>\n",
       "      <td>1.2</td>\n",
       "      <td>3.9</td>\n",
       "      <td>0.5</td>\n",
       "      <td>1</td>\n",
       "    </tr>\n",
       "    <tr>\n",
       "      <th>...</th>\n",
       "      <td>...</td>\n",
       "      <td>...</td>\n",
       "      <td>...</td>\n",
       "      <td>...</td>\n",
       "      <td>...</td>\n",
       "      <td>...</td>\n",
       "      <td>...</td>\n",
       "      <td>...</td>\n",
       "      <td>...</td>\n",
       "      <td>...</td>\n",
       "    </tr>\n",
       "    <tr>\n",
       "      <th>239</th>\n",
       "      <td>65</td>\n",
       "      <td>14</td>\n",
       "      <td>0.0</td>\n",
       "      <td>85.4</td>\n",
       "      <td>16.0</td>\n",
       "      <td>44.5</td>\n",
       "      <td>4.5</td>\n",
       "      <td>16.9</td>\n",
       "      <td>6.5</td>\n",
       "      <td>0</td>\n",
       "    </tr>\n",
       "    <tr>\n",
       "      <th>240</th>\n",
       "      <td>87</td>\n",
       "      <td>15</td>\n",
       "      <td>4.4</td>\n",
       "      <td>41.1</td>\n",
       "      <td>6.5</td>\n",
       "      <td>8.0</td>\n",
       "      <td>0.1</td>\n",
       "      <td>6.2</td>\n",
       "      <td>0.0</td>\n",
       "      <td>0</td>\n",
       "    </tr>\n",
       "    <tr>\n",
       "      <th>241</th>\n",
       "      <td>87</td>\n",
       "      <td>29</td>\n",
       "      <td>0.5</td>\n",
       "      <td>45.9</td>\n",
       "      <td>3.5</td>\n",
       "      <td>7.9</td>\n",
       "      <td>0.4</td>\n",
       "      <td>3.4</td>\n",
       "      <td>0.2</td>\n",
       "      <td>0</td>\n",
       "    </tr>\n",
       "    <tr>\n",
       "      <th>242</th>\n",
       "      <td>54</td>\n",
       "      <td>18</td>\n",
       "      <td>0.1</td>\n",
       "      <td>79.7</td>\n",
       "      <td>4.3</td>\n",
       "      <td>15.2</td>\n",
       "      <td>1.7</td>\n",
       "      <td>5.1</td>\n",
       "      <td>0.7</td>\n",
       "      <td>0</td>\n",
       "    </tr>\n",
       "    <tr>\n",
       "      <th>243</th>\n",
       "      <td>64</td>\n",
       "      <td>15</td>\n",
       "      <td>0.2</td>\n",
       "      <td>67.3</td>\n",
       "      <td>3.8</td>\n",
       "      <td>16.5</td>\n",
       "      <td>1.2</td>\n",
       "      <td>4.8</td>\n",
       "      <td>0.5</td>\n",
       "      <td>0</td>\n",
       "    </tr>\n",
       "  </tbody>\n",
       "</table>\n",
       "<p>243 rows × 10 columns</p>\n",
       "</div>"
      ],
      "text/plain": [
       "     RH  Ws  Rain  FFMC   DMC    DC  ISI   BUI  FWI  region\n",
       "0    57  18   0.0  65.7   3.4   7.6  1.3   3.4  0.5       1\n",
       "1    61  13   1.3  64.4   4.1   7.6  1.0   3.9  0.4       1\n",
       "2    82  22  13.1  47.1   2.5   7.1  0.3   2.7  0.1       1\n",
       "3    89  13   2.5  28.6   1.3   6.9  0.0   1.7  0.0       1\n",
       "4    77  16   0.0  64.8   3.0  14.2  1.2   3.9  0.5       1\n",
       "..   ..  ..   ...   ...   ...   ...  ...   ...  ...     ...\n",
       "239  65  14   0.0  85.4  16.0  44.5  4.5  16.9  6.5       0\n",
       "240  87  15   4.4  41.1   6.5   8.0  0.1   6.2  0.0       0\n",
       "241  87  29   0.5  45.9   3.5   7.9  0.4   3.4  0.2       0\n",
       "242  54  18   0.1  79.7   4.3  15.2  1.7   5.1  0.7       0\n",
       "243  64  15   0.2  67.3   3.8  16.5  1.2   4.8  0.5       0\n",
       "\n",
       "[243 rows x 10 columns]"
      ]
     },
     "execution_count": 43,
     "metadata": {},
     "output_type": "execute_result"
    }
   ],
   "source": [
    "x"
   ]
  },
  {
   "cell_type": "code",
   "execution_count": 44,
   "id": "8383c2b7",
   "metadata": {},
   "outputs": [
    {
     "data": {
      "text/html": [
       "<div>\n",
       "<style scoped>\n",
       "    .dataframe tbody tr th:only-of-type {\n",
       "        vertical-align: middle;\n",
       "    }\n",
       "\n",
       "    .dataframe tbody tr th {\n",
       "        vertical-align: top;\n",
       "    }\n",
       "\n",
       "    .dataframe thead th {\n",
       "        text-align: right;\n",
       "    }\n",
       "</style>\n",
       "<table border=\"1\" class=\"dataframe\">\n",
       "  <thead>\n",
       "    <tr style=\"text-align: right;\">\n",
       "      <th></th>\n",
       "      <th>Temperature</th>\n",
       "    </tr>\n",
       "  </thead>\n",
       "  <tbody>\n",
       "    <tr>\n",
       "      <th>0</th>\n",
       "      <td>29</td>\n",
       "    </tr>\n",
       "    <tr>\n",
       "      <th>1</th>\n",
       "      <td>29</td>\n",
       "    </tr>\n",
       "    <tr>\n",
       "      <th>2</th>\n",
       "      <td>26</td>\n",
       "    </tr>\n",
       "    <tr>\n",
       "      <th>3</th>\n",
       "      <td>25</td>\n",
       "    </tr>\n",
       "    <tr>\n",
       "      <th>4</th>\n",
       "      <td>27</td>\n",
       "    </tr>\n",
       "    <tr>\n",
       "      <th>...</th>\n",
       "      <td>...</td>\n",
       "    </tr>\n",
       "    <tr>\n",
       "      <th>239</th>\n",
       "      <td>30</td>\n",
       "    </tr>\n",
       "    <tr>\n",
       "      <th>240</th>\n",
       "      <td>28</td>\n",
       "    </tr>\n",
       "    <tr>\n",
       "      <th>241</th>\n",
       "      <td>27</td>\n",
       "    </tr>\n",
       "    <tr>\n",
       "      <th>242</th>\n",
       "      <td>24</td>\n",
       "    </tr>\n",
       "    <tr>\n",
       "      <th>243</th>\n",
       "      <td>24</td>\n",
       "    </tr>\n",
       "  </tbody>\n",
       "</table>\n",
       "<p>243 rows × 1 columns</p>\n",
       "</div>"
      ],
      "text/plain": [
       "     Temperature\n",
       "0             29\n",
       "1             29\n",
       "2             26\n",
       "3             25\n",
       "4             27\n",
       "..           ...\n",
       "239           30\n",
       "240           28\n",
       "241           27\n",
       "242           24\n",
       "243           24\n",
       "\n",
       "[243 rows x 1 columns]"
      ]
     },
     "execution_count": 44,
     "metadata": {},
     "output_type": "execute_result"
    }
   ],
   "source": [
    "y"
   ]
  },
  {
   "cell_type": "markdown",
   "id": "2ebb767c",
   "metadata": {},
   "source": [
    "### Train Test Split"
   ]
  },
  {
   "cell_type": "code",
   "execution_count": 45,
   "id": "9b7d3531",
   "metadata": {},
   "outputs": [],
   "source": [
    "from sklearn.model_selection import train_test_split\n",
    "\n",
    "x_train,x_test,y_train,y_test= train_test_split(x,y,test_size=0.33,random_state=10)"
   ]
  },
  {
   "cell_type": "code",
   "execution_count": 46,
   "id": "4a0d8f29",
   "metadata": {},
   "outputs": [
    {
     "data": {
      "text/plain": [
       "(162, 10)"
      ]
     },
     "execution_count": 46,
     "metadata": {},
     "output_type": "execute_result"
    }
   ],
   "source": [
    "x_train.shape"
   ]
  },
  {
   "cell_type": "code",
   "execution_count": 47,
   "id": "1dcc8524",
   "metadata": {},
   "outputs": [
    {
     "data": {
      "text/plain": [
       "(162, 1)"
      ]
     },
     "execution_count": 47,
     "metadata": {},
     "output_type": "execute_result"
    }
   ],
   "source": [
    "y_train.shape"
   ]
  },
  {
   "cell_type": "code",
   "execution_count": 48,
   "id": "72196b6d",
   "metadata": {},
   "outputs": [
    {
     "data": {
      "text/plain": [
       "(81, 10)"
      ]
     },
     "execution_count": 48,
     "metadata": {},
     "output_type": "execute_result"
    }
   ],
   "source": [
    "x_test.shape"
   ]
  },
  {
   "cell_type": "code",
   "execution_count": 49,
   "id": "fe76a895",
   "metadata": {},
   "outputs": [
    {
     "data": {
      "text/plain": [
       "(81, 1)"
      ]
     },
     "execution_count": 49,
     "metadata": {},
     "output_type": "execute_result"
    }
   ],
   "source": [
    "y_test.shape"
   ]
  },
  {
   "cell_type": "markdown",
   "id": "54a15973",
   "metadata": {},
   "source": [
    "### Standardizing or Feature Scaling"
   ]
  },
  {
   "cell_type": "code",
   "execution_count": 50,
   "id": "329163c9",
   "metadata": {},
   "outputs": [],
   "source": [
    "from sklearn.preprocessing import StandardScaler\n",
    "Scaler = StandardScaler()"
   ]
  },
  {
   "cell_type": "code",
   "execution_count": 51,
   "id": "bc41074b",
   "metadata": {},
   "outputs": [
    {
     "data": {
      "text/plain": [
       "StandardScaler()"
      ]
     },
     "execution_count": 51,
     "metadata": {},
     "output_type": "execute_result"
    }
   ],
   "source": [
    "Scaler"
   ]
  },
  {
   "cell_type": "code",
   "execution_count": 52,
   "id": "90bc0ad8",
   "metadata": {},
   "outputs": [],
   "source": [
    "x_train = Scaler.fit_transform(x_train)"
   ]
  },
  {
   "cell_type": "code",
   "execution_count": 53,
   "id": "5b87ae7e",
   "metadata": {},
   "outputs": [],
   "source": [
    "x_test = Scaler.transform(x_test)"
   ]
  },
  {
   "cell_type": "code",
   "execution_count": 54,
   "id": "6c352ded",
   "metadata": {},
   "outputs": [
    {
     "data": {
      "text/plain": [
       "array([[ 0.06835876,  0.89673457, -0.42406458, ...,  0.38986031,\n",
       "         0.52024214,  1.01242284],\n",
       "       [ 0.99672801, -0.58185068,  0.40434065, ..., -1.0010797 ,\n",
       "        -0.93452011,  1.01242284],\n",
       "       [ 0.53254338,  0.52708826, -0.42406458, ...,  2.19373563,\n",
       "         1.30997022, -0.9877296 ],\n",
       "       ...,\n",
       "       [-2.45150064, -0.95149699, -0.42406458, ...,  0.44781614,\n",
       "         1.72561657, -0.9877296 ],\n",
       "       [ 0.06835876, -0.58185068, -0.42406458, ..., -0.76925637,\n",
       "        -0.8098262 , -0.9877296 ],\n",
       "       [ 1.0630401 , -1.3211433 , -0.42406458, ..., -0.26214282,\n",
       "        -0.82368108,  1.01242284]])"
      ]
     },
     "execution_count": 54,
     "metadata": {},
     "output_type": "execute_result"
    }
   ],
   "source": [
    "x_train"
   ]
  },
  {
   "cell_type": "code",
   "execution_count": 55,
   "id": "03322c7f",
   "metadata": {},
   "outputs": [
    {
     "data": {
      "text/plain": [
       "array([[ 4.66231295e-01, -5.81850675e-01, -4.24064583e-01,\n",
       "         3.74594357e-01, -4.06694465e-01, -3.03195163e-01,\n",
       "        -3.54971234e-01, -3.70810009e-01, -4.49599362e-01,\n",
       "         1.01242284e+00],\n",
       "       [-9.26322582e-01,  1.26638088e+00, -4.24064583e-01,\n",
       "         7.58044470e-01, -2.28559462e-01, -3.17928133e-01,\n",
       "         1.05400512e+00, -2.76631780e-01,  4.78677502e-01,\n",
       "        -9.87729597e-01],\n",
       "       [-4.62137956e-01,  1.57441947e-01, -4.24064583e-01,\n",
       "         7.77878096e-01,  8.14802699e-01,  1.80888129e-01,\n",
       "         8.39076521e-01,  5.49238849e-01,  8.80468981e-01,\n",
       "        -9.87729597e-01],\n",
       "       [ 1.19566428e+00,  2.00567350e+00,  3.00789995e+00,\n",
       "        -1.88643906e+00, -9.49582093e-01, -8.58838594e-01,\n",
       "        -1.02363798e+00, -9.57612824e-01, -9.34520112e-01,\n",
       "         1.01242284e+00],\n",
       "       [ 1.12935219e+00, -5.81850675e-01,  7.59371462e-01,\n",
       "        -1.87982786e+00, -1.01744305e+00, -8.60943304e-01,\n",
       "        -1.04751893e+00, -9.86590741e-01, -9.34520112e-01,\n",
       "        -9.87729597e-01],\n",
       "       [-3.29513777e-01,  1.57441947e-01, -4.24064583e-01,\n",
       "         7.24988426e-01,  1.15410747e+00,  2.65076527e-01,\n",
       "         6.24147925e-01,  8.31773537e-01,  8.52759223e-01,\n",
       "        -9.87729597e-01],\n",
       "       [-1.96889599e-01,  8.96734570e-01, -2.46549176e-01,\n",
       "        -2.24454621e-03, -2.45524700e-01, -3.16875778e-02,\n",
       "        -5.93780785e-01, -1.53475633e-01, -5.88148148e-01,\n",
       "         1.01242284e+00],\n",
       "       [-8.60010492e-01,  1.57441947e-01, -4.24064583e-01,\n",
       "         8.43990185e-01,  1.56975581e+00,  4.73442814e-01,\n",
       "         1.14952894e+00,  1.18675302e+00,  1.44851900e+00,\n",
       "        -9.87729597e-01],\n",
       "       [ 4.66231295e-01,  1.57441947e-01, -4.24064583e-01,\n",
       "         5.86153040e-01, -1.18285412e-01, -4.82095510e-01,\n",
       "         1.70409778e-01, -2.54898342e-01, -2.00981263e-02,\n",
       "        -9.87729597e-01],\n",
       "       [-1.05894676e+00, -5.81850675e-01, -9.86196704e-03,\n",
       "         2.42002891e-02, -6.01794706e-01, -8.35686784e-01,\n",
       "        -6.89304605e-01, -6.82322615e-01, -8.23681083e-01,\n",
       "         1.01242284e+00],\n",
       "       [-3.29513777e-01, -2.06043592e+00, -3.05720978e-01,\n",
       "         7.70899598e-02, -2.87937796e-01, -6.06273398e-01,\n",
       "        -7.37066515e-01, -3.99787926e-01, -8.09826205e-01,\n",
       "        -9.87729597e-01],\n",
       "       [ 2.04666942e-03, -5.81850675e-01, -4.24064583e-01,\n",
       "         6.52265128e-01, -2.79455177e-01, -2.42158574e-01,\n",
       "         2.18171689e-01, -2.69387301e-01, -6.24324775e-03,\n",
       "         1.01242284e+00],\n",
       "       [-1.92100392e+00,  1.57441947e-01, -3.05720978e-01,\n",
       "         7.38210843e-01,  2.29501975e-01, -7.16770671e-02,\n",
       "         6.71909835e-01,  9.28366593e-02,  5.06387259e-01,\n",
       "        -9.87729597e-01],\n",
       "       [ 1.06304010e+00, -2.12204364e-01, -4.24064583e-01,\n",
       "         5.46485787e-01,  1.21348580e+00,  1.84150429e+00,\n",
       "         3.24309267e-03,  1.53448802e+00,  5.34097016e-01,\n",
       "         1.01242284e+00],\n",
       "       [-6.61074224e-01,  5.27088259e-01, -1.28205572e-01,\n",
       "         2.02702928e-01,  5.51841504e-01,  2.11932601e+00,\n",
       "        -4.74376009e-01,  1.04186343e+00, -1.30937155e-01,\n",
       "        -9.87729597e-01],\n",
       "       [-6.61074224e-01,  8.96734570e-01, -4.24064583e-01,\n",
       "         7.84489305e-01,  6.28185077e-01,  6.69180840e-01,\n",
       "         1.07788607e+00,  6.94128433e-01,  1.12985679e+00,\n",
       "         1.01242284e+00],\n",
       "       [ 1.12935219e+00,  1.57441947e-01,  6.41027858e-01,\n",
       "        -1.96577357e+00, -9.58064712e-01, -8.58838594e-01,\n",
       "        -1.04751893e+00, -9.57612824e-01, -9.34520112e-01,\n",
       "         1.01242284e+00],\n",
       "       [-1.98731601e+00,  5.27088259e-01, -4.24064583e-01,\n",
       "         1.09521612e+00,  2.46467213e-01, -3.45289362e-01,\n",
       "         2.98836248e+00,  4.93697842e-02,  1.75332633e+00,\n",
       "        -9.87729597e-01],\n",
       "       [ 1.34670848e-01, -5.81850675e-01, -4.24064583e-01,\n",
       "         4.86984908e-01, -1.43733270e-01,  1.21956250e-01,\n",
       "        -1.63923593e-01, -3.03194870e-02, -1.72501791e-01,\n",
       "         1.01242284e+00],\n",
       "       [ 1.12935219e+00,  2.00567350e+00,  9.51679820e+00,\n",
       "        -1.62860192e+00, -4.66072799e-01, -8.37791494e-01,\n",
       "        -9.75876066e-01, -5.73655427e-01, -9.06810355e-01,\n",
       "         1.01242284e+00],\n",
       "       [-1.30577509e-01,  8.96734570e-01, -2.46549176e-01,\n",
       "         2.02702928e-01, -2.11594223e-01,  8.81756547e-01,\n",
       "        -4.50495054e-01,  1.00081139e-01, -3.66470091e-01,\n",
       "         1.01242284e+00],\n",
       "       [-5.94762135e-01, -5.81850675e-01,  1.41026129e+00,\n",
       "        -4.38584329e-01, -2.70972558e-01, -8.29372654e-01,\n",
       "        -8.08709381e-01, -4.14276884e-01, -8.37535962e-01,\n",
       "        -9.87729597e-01],\n",
       "       [ 6.83587588e-02,  5.27088259e-01, -4.24064583e-01,\n",
       "         6.65487546e-01,  1.50189485e+00,  2.04566116e+00,\n",
       "         5.04743150e-01,  1.80977823e+00,  1.22684094e+00,\n",
       "         1.01242284e+00],\n",
       "       [ 6.83587588e-02, -2.43008223e+00,  2.85997044e-01,\n",
       "        -2.20414438e-01, -2.11594223e-01, -6.86252377e-01,\n",
       "        -8.56471291e-01, -3.49076572e-01, -8.51390840e-01,\n",
       "        -9.87729597e-01],\n",
       "       [ 5.32543384e-01,  5.27088259e-01, -2.46549176e-01,\n",
       "        -4.98085209e-01, -9.32616855e-01, -3.87383562e-01,\n",
       "        -7.60947470e-01, -8.05478761e-01, -8.65245719e-01,\n",
       "         1.01242284e+00],\n",
       "       [-6.42654199e-02,  1.57441947e-01, -4.24064583e-01,\n",
       "         7.05154799e-01,  1.95571498e-01, -2.94776323e-01,\n",
       "         5.52505060e-01,  1.31473882e-02,  3.67838474e-01,\n",
       "        -9.87729597e-01],\n",
       "       [-5.94762135e-01, -1.69078961e+00, -4.24064583e-01,\n",
       "         3.21704687e-01, -6.95103517e-01, -6.77833537e-01,\n",
       "        -5.22137919e-01, -7.25789490e-01, -7.12842055e-01,\n",
       "         1.01242284e+00],\n",
       "       [-2.63201688e-01,  8.96734570e-01, -3.64892781e-01,\n",
       "         6.38675421e-02, -4.83038037e-01, -7.11508896e-01,\n",
       "        -5.46018875e-01, -5.73655427e-01, -6.85132298e-01,\n",
       "        -9.87729597e-01],\n",
       "       [ 2.04666942e-03, -5.81850675e-01, -2.46549176e-01,\n",
       "        -3.53005904e-02, -7.20551375e-01, -8.10430265e-01,\n",
       "        -7.13185560e-01, -7.76500844e-01, -8.37535962e-01,\n",
       "         1.01242284e+00],\n",
       "       [-9.26322582e-01, -3.53902117e+00,  7.59371462e-01,\n",
       "        -1.04681554e+00, -1.94628985e-01, -4.29477761e-01,\n",
       "        -9.75876066e-01, -3.12854176e-01, -8.92955476e-01,\n",
       "        -9.87729597e-01],\n",
       "       [-5.94762135e-01, -9.51496987e-01, -4.24064583e-01,\n",
       "         7.31599634e-01, -3.64281369e-01, -3.78964722e-01,\n",
       "         4.09219329e-01, -3.85298968e-01,  4.91762665e-02,\n",
       "         1.01242284e+00],\n",
       "       [-5.28450045e-01, -5.81850675e-01, -4.24064583e-01,\n",
       "         5.99375458e-01, -5.00003276e-01, -6.33634628e-01,\n",
       "         7.48859580e-02, -5.80899906e-01, -2.69485941e-01,\n",
       "        -9.87729597e-01],\n",
       "       [-1.32419512e+00, -2.12204364e-01,  7.00199660e-01,\n",
       "         3.41538313e-01, -4.06694465e-01, -8.12534974e-01,\n",
       "        -3.54971234e-01, -5.22944072e-01, -5.18873755e-01,\n",
       "        -9.87729597e-01],\n",
       "       [ 6.83587588e-02, -2.12204364e-01, -4.24064583e-01,\n",
       "         6.32431502e-01,  4.71256622e-04,  3.21903696e-01,\n",
       "         2.42052644e-01,  1.50792493e-01,  2.15434809e-01,\n",
       "         1.01242284e+00],\n",
       "       [ 1.26197637e+00,  2.00567350e+00, -4.24064583e-01,\n",
       "         5.13429743e-01,  2.78277035e+00,  3.19272809e+00,\n",
       "        -6.83997726e-02,  3.12102896e+00,  8.80468981e-01,\n",
       "         1.01242284e+00],\n",
       "       [ 1.12935219e+00,  1.57441947e-01, -1.87377374e-01,\n",
       "        -1.14598367e+00, -9.15651616e-01, -4.50524861e-01,\n",
       "        -9.04233201e-01, -8.05478761e-01, -8.92955476e-01,\n",
       "         1.01242284e+00],\n",
       "       [-7.93698403e-01,  1.57441947e-01,  1.82446390e+00,\n",
       "         2.42002891e-02, -5.25451133e-01, -8.20953814e-01,\n",
       "        -6.41542695e-01, -6.17122302e-01, -7.68261569e-01,\n",
       "        -9.87729597e-01],\n",
       "       [-2.63201688e-01,  1.57441947e-01,  4.93098352e-02,\n",
       "        -1.93969602e-01, -6.10277325e-01, -8.46210334e-01,\n",
       "        -7.37066515e-01, -6.89567094e-01, -8.37535962e-01,\n",
       "        -9.87729597e-01],\n",
       "       [-6.61074224e-01,  1.26638088e+00, -4.24064583e-01,\n",
       "         7.97711723e-01,  2.46467213e-01,  1.05434276e+00,\n",
       "         1.26893371e+00,  5.56483328e-01,  1.17142143e+00,\n",
       "         1.01242284e+00],\n",
       "       [-1.19157094e+00, -5.81850675e-01, -4.24064583e-01,\n",
       "         1.10146004e-01, -7.96894947e-01, -8.06220845e-01,\n",
       "        -6.41542695e-01, -8.34456678e-01, -8.23681083e-01,\n",
       "         1.01242284e+00],\n",
       "       [-5.28450045e-01, -2.12204364e-01, -4.24064583e-01,\n",
       "         8.04322932e-01,  1.19652056e+00,  3.93463835e-01,\n",
       "         8.62957476e-01,  8.75240413e-01,  1.06058240e+00,\n",
       "        -9.87729597e-01],\n",
       "       [-1.45681930e+00, -2.12204364e-01, -4.24064583e-01,\n",
       "         8.10934140e-01, -7.58723161e-02, -5.47341519e-01,\n",
       "         8.86838431e-01, -2.25920425e-01,  4.37112866e-01,\n",
       "        -9.87729597e-01],\n",
       "       [-5.28450045e-01, -5.81850675e-01, -4.24064583e-01,\n",
       "         7.77878096e-01,  3.73706501e-01,  3.89254415e-01,\n",
       "         6.48028880e-01,  4.11593744e-01,  6.58790924e-01,\n",
       "         1.01242284e+00],\n",
       "       [-1.45681930e+00, -2.79972854e+00, -3.64892781e-01,\n",
       "         4.47317654e-01,  9.08111510e-01,  7.89149308e-01,\n",
       "        -4.74376009e-01,  9.18707288e-01, -1.72501791e-01,\n",
       "        -9.87729597e-01],\n",
       "       [-2.63201688e-01,  5.27088259e-01, -4.24064583e-01,\n",
       "         6.78709964e-01,  5.13669718e-02,  1.78783419e-01,\n",
       "         5.28624105e-01,  1.21814576e-01,  4.23257988e-01,\n",
       "         1.01242284e+00],\n",
       "       [-1.72206765e+00, -5.81850675e-01, -4.24064583e-01,\n",
       "         1.13488337e+00,  1.84119962e+00,  8.05986988e-01,\n",
       "         2.70179102e+00,  1.42582083e+00,  2.69545807e+00,\n",
       "        -9.87729597e-01],\n",
       "       [-4.62137956e-01, -2.12204364e-01,  1.29191768e+00,\n",
       "        -1.54302349e-01, -6.01794706e-01, -8.20953814e-01,\n",
       "        -7.37066515e-01, -6.82322615e-01, -8.37535962e-01,\n",
       "        -9.87729597e-01],\n",
       "       [-9.92634671e-01, -9.51496987e-01, -4.24064583e-01,\n",
       "         8.70435020e-01,  6.79080792e-01,  1.26270905e+00,\n",
       "         9.58481297e-01,  9.54929684e-01,  1.17142143e+00,\n",
       "         1.01242284e+00],\n",
       "       [ 2.67295027e-01,  1.26638088e+00, -4.24064583e-01,\n",
       "        -1.14635096e-01, -9.58064712e-01, -6.77833537e-01,\n",
       "        -6.41542695e-01, -8.85168032e-01, -8.37535962e-01,\n",
       "        -9.87729597e-01],\n",
       "       [ 9.96728010e-01, -5.81850675e-01, -4.24064583e-01,\n",
       "         2.55592598e-01, -6.69655660e-01, -3.55812912e-01,\n",
       "        -4.98256964e-01, -5.66410948e-01, -6.43567662e-01,\n",
       "         1.01242284e+00],\n",
       "       [ 3.33607116e-01, -5.81850675e-01, -4.24064583e-01,\n",
       "         5.46485787e-01, -1.77663746e-01, -1.13771266e-01,\n",
       "        -2.06378624e-02, -1.46231154e-01, -1.17082276e-01,\n",
       "         1.01242284e+00],\n",
       "       [-2.58412482e+00, -2.43008223e+00, -4.24064583e-01,\n",
       "         1.24727392e+00,  1.36617295e+00,  5.87097152e-01,\n",
       "         2.63014815e+00,  1.02737448e+00,  2.37679587e+00,\n",
       "        -9.87729597e-01],\n",
       "       [ 2.67295027e-01, -5.81850675e-01, -4.24064583e-01,\n",
       "         3.61371940e-01, -7.12068756e-01, -5.53655649e-01,\n",
       "        -3.78852189e-01, -6.67833656e-01, -6.02003026e-01,\n",
       "         1.01242284e+00],\n",
       "       [-9.26322582e-01, -1.69078961e+00, -4.24064583e-01,\n",
       "         8.10934140e-01, -3.72763988e-01, -3.24242263e-01,\n",
       "         5.04743150e-01, -3.56321051e-01,  1.18450659e-01,\n",
       "         1.01242284e+00],\n",
       "       [ 1.26197637e+00, -2.12204364e-01, -1.87377374e-01,\n",
       "        -2.13105379e+00, -1.12771710e+00, -8.67257434e-01,\n",
       "        -1.07139989e+00, -1.07352449e+00, -9.48374990e-01,\n",
       "         1.01242284e+00],\n",
       "       [-1.65575556e+00, -2.12204364e-01, -4.24064583e-01,\n",
       "         9.89436779e-01,  3.14752298e+00,  2.08775536e+00,\n",
       "         1.79431473e+00,  2.80227188e+00,  2.77858734e+00,\n",
       "        -9.87729597e-01],\n",
       "       [-5.28450045e-01, -2.12204364e-01, -4.24064583e-01,\n",
       "         7.91100514e-01,  5.68806742e-01, -1.09561846e-01,\n",
       "         7.91314611e-01,  3.31904473e-01,  7.14210438e-01,\n",
       "        -9.87729597e-01],\n",
       "       [-3.29513777e-01, -9.51496987e-01, -3.05720978e-01,\n",
       "         1.56424466e-01,  3.82189120e-01,  8.31243508e-01,\n",
       "        -6.17661740e-01,  5.92705724e-01, -4.21889605e-01,\n",
       "        -9.87729597e-01],\n",
       "       [ 1.79247308e+00, -2.12204364e-01, -4.24064583e-01,\n",
       "        -6.83199056e-01, -5.93312087e-01, -7.11508896e-01,\n",
       "        -8.32590336e-01, -6.60589177e-01, -8.65245719e-01,\n",
       "        -9.87729597e-01],\n",
       "       [ 1.34670848e-01, -2.12204364e-01, -3.64892781e-01,\n",
       "         2.82037434e-01, -1.60698508e-01,  2.86123627e-01,\n",
       "        -4.50495054e-01,  2.03918674e-02, -3.94179848e-01,\n",
       "         1.01242284e+00],\n",
       "       [ 6.65167563e-01, -2.12204364e-01, -4.24064583e-01,\n",
       "         6.25820293e-01,  1.06079866e+00,  1.65208039e+00,\n",
       "         2.18171689e-01,  1.36062052e+00,  7.00355559e-01,\n",
       "         1.01242284e+00],\n",
       "       [-1.30577509e-01, -9.51496987e-01,  3.45168846e-01,\n",
       "        -8.41868068e-01, -8.56273282e-01, -8.60943304e-01,\n",
       "        -8.80352246e-01, -8.92412512e-01, -8.92955476e-01,\n",
       "         1.01242284e+00],\n",
       "       [ 1.26197637e+00,  2.37531982e+00,  7.32744151e+00,\n",
       "        -1.98560720e+00, -9.91995189e-01, -8.71466853e-01,\n",
       "        -1.04751893e+00, -9.79346262e-01, -9.34520112e-01,\n",
       "         1.01242284e+00],\n",
       "       [-1.72206765e+00, -9.51496987e-01, -4.24064583e-01,\n",
       "         1.01588161e+00,  1.10321175e+00,  8.19667603e-02,\n",
       "         1.67490995e+00,  7.88306662e-01,  1.60092267e+00,\n",
       "        -9.87729597e-01],\n",
       "       [-5.94762135e-01, -5.81850675e-01, -4.24064583e-01,\n",
       "         9.16713482e-01,  4.38598538e+00,  2.71074951e+00,\n",
       "         1.26893371e+00,  3.75129865e+00,  2.66774832e+00,\n",
       "        -9.87729597e-01],\n",
       "       [ 1.65984890e+00, -9.51496987e-01, -4.24064583e-01,\n",
       "        -4.05528285e-01, -9.83512570e-01, -6.71519407e-01,\n",
       "        -8.32590336e-01, -9.06901470e-01, -8.79100598e-01,\n",
       "         1.01242284e+00],\n",
       "       [ 2.00982937e-01,  2.37531982e+00, -1.87377374e-01,\n",
       "        -5.90642132e-01, -3.13385653e-01,  4.79756943e-01,\n",
       "        -6.89304605e-01, -5.92974038e-02, -6.57422540e-01,\n",
       "         1.01242284e+00],\n",
       "       [ 3.99919206e-01,  5.27088259e-01,  2.35701012e+00,\n",
       "        -9.87314662e-01, -8.73238520e-01, -8.52524464e-01,\n",
       "        -8.56471291e-01, -8.99656991e-01, -8.92955476e-01,\n",
       "        -9.87729597e-01],\n",
       "       [-1.32419512e+00,  1.57441947e-01, -4.24064583e-01,\n",
       "         9.29935899e-01,  2.70642678e+00,  1.87728436e+00,\n",
       "         1.62714804e+00,  2.46178136e+00,  2.44607026e+00,\n",
       "        -9.87729597e-01],\n",
       "       [ 8.64103831e-01,  1.63602719e+00, -9.86196704e-03,\n",
       "        -9.27813783e-01, -9.83512570e-01, -8.27267944e-01,\n",
       "        -8.08709381e-01, -9.57612824e-01, -8.79100598e-01,\n",
       "         1.01242284e+00],\n",
       "       [ 1.39460055e+00,  8.96734570e-01, -4.24064583e-01,\n",
       "         4.40706446e-01, -5.89070777e-02,  1.67207514e-02,\n",
       "        -4.45188175e-02, -1.58305286e-02, -7.55176406e-02,\n",
       "         1.01242284e+00],\n",
       "       [ 6.65167563e-01, -2.12204364e-01, -4.24064583e-01,\n",
       "         6.25820293e-01, -1.77663746e-01, -2.14797345e-01,\n",
       "         2.18171689e-01, -1.96942509e-01,  3.53213880e-02,\n",
       "         1.01242284e+00],\n",
       "       [ 6.83587588e-02, -2.12204364e-01, -3.05720978e-01,\n",
       "        -6.50143012e-01, -8.81721139e-01, -6.73624117e-01,\n",
       "        -8.32590336e-01, -8.27212199e-01, -8.79100598e-01,\n",
       "        -9.87729597e-01],\n",
       "       [ 3.99919206e-01, -9.51496987e-01, -9.86196704e-03,\n",
       "        -6.96421474e-01, -6.95103517e-01, -8.25163234e-01,\n",
       "        -8.56471291e-01, -7.54767407e-01, -8.79100598e-01,\n",
       "         1.01242284e+00],\n",
       "       [-6.61074224e-01,  1.57441947e-01, -4.24064583e-01,\n",
       "         8.17545349e-01,  1.98540415e+00,  2.37820533e+00,\n",
       "         1.36445753e+00,  2.26618042e+00,  2.14126293e+00,\n",
       "         1.01242284e+00],\n",
       "       [ 3.33607116e-01, -2.12204364e-01, -4.24064583e-01,\n",
       "         5.92764249e-01,  8.23285318e-01,  6.51290806e-02,\n",
       "         1.22647868e-01,  5.56483328e-01,  3.12418959e-01,\n",
       "        -9.87729597e-01],\n",
       "       [-5.94762135e-01, -1.69078961e+00, -3.64892781e-01,\n",
       "         4.34095237e-01, -4.91520657e-01, -4.67362540e-01,\n",
       "        -3.78852189e-01, -5.01210635e-01, -5.18873755e-01,\n",
       "        -9.87729597e-01],\n",
       "       [-5.94762135e-01,  8.96734570e-01, -3.64892781e-01,\n",
       "         1.69646883e-01, -8.39308043e-01, -7.00985346e-01,\n",
       "        -7.13185560e-01, -8.05478761e-01, -8.51390840e-01,\n",
       "        -9.87729597e-01],\n",
       "       [-1.72206765e+00,  1.57441947e-01, -4.24064583e-01,\n",
       "         9.96047988e-01,  3.99578490e+00,  2.49817380e+00,\n",
       "         2.00924332e+00,  3.46151949e+00,  3.24965322e+00,\n",
       "        -9.87729597e-01],\n",
       "       [ 9.30415920e-01,  2.00567350e+00,  6.41027858e-01,\n",
       "        -1.23192939e+00, -1.04289090e+00, -8.44105624e-01,\n",
       "        -8.56471291e-01, -1.00107970e+00, -9.06810355e-01,\n",
       "         1.01242284e+00],\n",
       "       [-5.94762135e-01,  8.96734570e-01, -4.24064583e-01,\n",
       "         8.10934140e-01,  4.92463170e-01,  1.31322209e+00,\n",
       "         1.19729085e+00,  8.17284579e-01,  1.28226046e+00,\n",
       "         1.01242284e+00]])"
      ]
     },
     "execution_count": 55,
     "metadata": {},
     "output_type": "execute_result"
    }
   ],
   "source": [
    "x_test"
   ]
  },
  {
   "cell_type": "markdown",
   "id": "906bc9b6",
   "metadata": {},
   "source": [
    "# Model Training"
   ]
  },
  {
   "cell_type": "code",
   "execution_count": 56,
   "id": "351c5327",
   "metadata": {},
   "outputs": [],
   "source": [
    "from sklearn.linear_model import LinearRegression\n",
    "regression = LinearRegression()"
   ]
  },
  {
   "cell_type": "code",
   "execution_count": 57,
   "id": "56fd8e3b",
   "metadata": {},
   "outputs": [
    {
     "data": {
      "text/plain": [
       "LinearRegression()"
      ]
     },
     "execution_count": 57,
     "metadata": {},
     "output_type": "execute_result"
    }
   ],
   "source": [
    "regression.fit(x_train,y_train)"
   ]
  },
  {
   "cell_type": "markdown",
   "id": "41b9da1f",
   "metadata": {},
   "source": [
    "# Coefficient"
   ]
  },
  {
   "cell_type": "code",
   "execution_count": 58,
   "id": "9630860c",
   "metadata": {},
   "outputs": [
    {
     "name": "stdout",
     "output_type": "stream",
     "text": [
      "[[-1.45732761 -0.717256   -0.25440877  0.93258152 -0.086711    0.37465144\n",
      "   0.27747737  0.4158806  -0.43324618 -0.21483906]]\n"
     ]
    }
   ],
   "source": [
    "print(regression.coef_)"
   ]
  },
  {
   "cell_type": "markdown",
   "id": "d22dc4c0",
   "metadata": {},
   "source": [
    "# Intercept"
   ]
  },
  {
   "cell_type": "code",
   "execution_count": 59,
   "id": "da524192",
   "metadata": {},
   "outputs": [
    {
     "name": "stdout",
     "output_type": "stream",
     "text": [
      "[32.07407407]\n"
     ]
    }
   ],
   "source": [
    "print(regression.intercept_)"
   ]
  },
  {
   "cell_type": "markdown",
   "id": "eda3afca",
   "metadata": {},
   "source": [
    "# Prediction for test data"
   ]
  },
  {
   "cell_type": "code",
   "execution_count": 60,
   "id": "5d88d672",
   "metadata": {},
   "outputs": [
    {
     "data": {
      "text/plain": [
       "array([[31.91542619],\n",
       "       [33.41347513],\n",
       "       [33.75705803],\n",
       "       [25.63417825],\n",
       "       [28.58107364],\n",
       "       [33.58644509],\n",
       "       [31.59658411],\n",
       "       [34.54785466],\n",
       "       [31.92804418],\n",
       "       [33.46312854],\n",
       "       [34.17191426],\n",
       "       [32.87181188],\n",
       "       [35.69800686],\n",
       "       [32.06946942],\n",
       "       [34.19782311],\n",
       "       [33.31076196],\n",
       "       [27.5787481 ],\n",
       "       [35.8730327 ],\n",
       "       [32.71447703],\n",
       "       [24.44223792],\n",
       "       [32.07952363],\n",
       "       [32.48151929],\n",
       "       [33.10475631],\n",
       "       [33.39861071],\n",
       "       [30.06510796],\n",
       "       [32.90452085],\n",
       "       [34.01239466],\n",
       "       [31.8611212 ],\n",
       "       [31.90160855],\n",
       "       [34.84713309],\n",
       "       [34.01757119],\n",
       "       [33.8425015 ],\n",
       "       [34.14831209],\n",
       "       [32.76392984],\n",
       "       [31.01797214],\n",
       "       [28.78834064],\n",
       "       [32.52461299],\n",
       "       [31.97093079],\n",
       "       [33.21312226],\n",
       "       [33.81987361],\n",
       "       [34.25420282],\n",
       "       [35.18995362],\n",
       "       [34.05634613],\n",
       "       [37.4695465 ],\n",
       "       [32.67941211],\n",
       "       [36.69665871],\n",
       "       [32.25857945],\n",
       "       [35.47503603],\n",
       "       [30.63524534],\n",
       "       [30.99735899],\n",
       "       [32.36222047],\n",
       "       [39.29508339],\n",
       "       [32.06152996],\n",
       "       [35.13479292],\n",
       "       [27.66994587],\n",
       "       [36.8508119 ],\n",
       "       [34.01206441],\n",
       "       [34.20878638],\n",
       "       [28.95100031],\n",
       "       [32.3437525 ],\n",
       "       [32.58085649],\n",
       "       [31.37955199],\n",
       "       [24.06427869],\n",
       "       [36.5676846 ],\n",
       "       [35.92484593],\n",
       "       [29.45616188],\n",
       "       [29.63261858],\n",
       "       [29.33639913],\n",
       "       [35.96246726],\n",
       "       [28.09464045],\n",
       "       [29.72502191],\n",
       "       [31.62917964],\n",
       "       [31.44022863],\n",
       "       [30.88970589],\n",
       "       [34.68956932],\n",
       "       [32.69611482],\n",
       "       [34.64218595],\n",
       "       [32.40703152],\n",
       "       [36.89841364],\n",
       "       [27.26318207],\n",
       "       [33.51016711]])"
      ]
     },
     "execution_count": 60,
     "metadata": {},
     "output_type": "execute_result"
    }
   ],
   "source": [
    "reg_pred = regression.predict(x_test)\n",
    "reg_pred"
   ]
  },
  {
   "cell_type": "markdown",
   "id": "d70fc887",
   "metadata": {},
   "source": [
    "## Residuals"
   ]
  },
  {
   "cell_type": "markdown",
   "id": "5fc04c87",
   "metadata": {},
   "source": [
    "### Deviation from actual(test values) to prediction ( values based on algorithm input)"
   ]
  },
  {
   "cell_type": "code",
   "execution_count": 61,
   "id": "ec9f54a7",
   "metadata": {},
   "outputs": [
    {
     "data": {
      "text/plain": [
       "<AxesSubplot:ylabel='Density'>"
      ]
     },
     "execution_count": 61,
     "metadata": {},
     "output_type": "execute_result"
    },
    {
     "data": {
      "image/png": "[encoded data removed]",
      "text/plain": [
       "<Figure size 432x288 with 1 Axes>"
      ]
     },
     "metadata": {
      "needs_background": "light"
     },
     "output_type": "display_data"
    }
   ],
   "source": [
    "sns.distplot(reg_pred - y_test)"
   ]
  },
  {
   "cell_type": "code",
   "execution_count": 62,
   "id": "32089163",
   "metadata": {},
   "outputs": [
    {
     "data": {
      "text/plain": [
       "Text(0, 0.5, 'Test Predicted data')"
      ]
     },
     "execution_count": 62,
     "metadata": {},
     "output_type": "execute_result"
    },
    {
     "data": {
      "image/png": "[encoded data removed]",
      "text/plain": [
       "<Figure size 432x288 with 1 Axes>"
      ]
     },
     "metadata": {
      "needs_background": "light"
     },
     "output_type": "display_data"
    }
   ],
   "source": [
    "plt.scatter(y_test,reg_pred)\n",
    "plt.xlabel('Test Truth Data')\n",
    "plt.ylabel('Test Predicted data')"
   ]
  },
  {
   "cell_type": "code",
   "execution_count": 63,
   "id": "1279bf43",
   "metadata": {},
   "outputs": [],
   "source": [
    "residual = y_test - reg_pred"
   ]
  },
  {
   "cell_type": "code",
   "execution_count": 64,
   "id": "4c6c1200",
   "metadata": {},
   "outputs": [
    {
     "data": {
      "text/html": [
       "<div>\n",
       "<style scoped>\n",
       "    .dataframe tbody tr th:only-of-type {\n",
       "        vertical-align: middle;\n",
       "    }\n",
       "\n",
       "    .dataframe tbody tr th {\n",
       "        vertical-align: top;\n",
       "    }\n",
       "\n",
       "    .dataframe thead th {\n",
       "        text-align: right;\n",
       "    }\n",
       "</style>\n",
       "<table border=\"1\" class=\"dataframe\">\n",
       "  <thead>\n",
       "    <tr style=\"text-align: right;\">\n",
       "      <th></th>\n",
       "      <th>Temperature</th>\n",
       "    </tr>\n",
       "  </thead>\n",
       "  <tbody>\n",
       "    <tr>\n",
       "      <th>46</th>\n",
       "      <td>-2.915426</td>\n",
       "    </tr>\n",
       "    <tr>\n",
       "      <th>226</th>\n",
       "      <td>-4.413475</td>\n",
       "    </tr>\n",
       "    <tr>\n",
       "      <th>181</th>\n",
       "      <td>2.242942</td>\n",
       "    </tr>\n",
       "    <tr>\n",
       "      <th>116</th>\n",
       "      <td>0.365822</td>\n",
       "    </tr>\n",
       "    <tr>\n",
       "      <th>124</th>\n",
       "      <td>0.418926</td>\n",
       "    </tr>\n",
       "    <tr>\n",
       "      <th>...</th>\n",
       "      <td>...</td>\n",
       "    </tr>\n",
       "    <tr>\n",
       "      <th>127</th>\n",
       "      <td>0.357814</td>\n",
       "    </tr>\n",
       "    <tr>\n",
       "      <th>242</th>\n",
       "      <td>-8.407032</td>\n",
       "    </tr>\n",
       "    <tr>\n",
       "      <th>208</th>\n",
       "      <td>-3.898414</td>\n",
       "    </tr>\n",
       "    <tr>\n",
       "      <th>102</th>\n",
       "      <td>2.736818</td>\n",
       "    </tr>\n",
       "    <tr>\n",
       "      <th>78</th>\n",
       "      <td>2.489833</td>\n",
       "    </tr>\n",
       "  </tbody>\n",
       "</table>\n",
       "<p>81 rows × 1 columns</p>\n",
       "</div>"
      ],
      "text/plain": [
       "     Temperature\n",
       "46     -2.915426\n",
       "226    -4.413475\n",
       "181     2.242942\n",
       "116     0.365822\n",
       "124     0.418926\n",
       "..           ...\n",
       "127     0.357814\n",
       "242    -8.407032\n",
       "208    -3.898414\n",
       "102     2.736818\n",
       "78      2.489833\n",
       "\n",
       "[81 rows x 1 columns]"
      ]
     },
     "execution_count": 64,
     "metadata": {},
     "output_type": "execute_result"
    }
   ],
   "source": [
    "residual"
   ]
  },
  {
   "cell_type": "code",
   "execution_count": 65,
   "id": "8da0c868",
   "metadata": {},
   "outputs": [
    {
     "data": {
      "text/plain": [
       "<AxesSubplot:ylabel='Density'>"
      ]
     },
     "execution_count": 65,
     "metadata": {},
     "output_type": "execute_result"
    },
    {
     "data": {
      "image/png": "[encoded data removed]",
      "text/plain": [
       "<Figure size 432x288 with 1 Axes>"
      ]
     },
     "metadata": {
      "needs_background": "light"
     },
     "output_type": "display_data"
    }
   ],
   "source": [
    "sns.distplot(residual, kde = True)"
   ]
  },
  {
   "cell_type": "markdown",
   "id": "bb0bff08",
   "metadata": {},
   "source": [
    "### Scatter plot with residual & preddiction"
   ]
  },
  {
   "cell_type": "code",
   "execution_count": 66,
   "id": "ab442cf6",
   "metadata": {},
   "outputs": [
    {
     "data": {
      "text/plain": [
       "<matplotlib.collections.PathCollection at 0x15af3ec3ca0>"
      ]
     },
     "execution_count": 66,
     "metadata": {},
     "output_type": "execute_result"
    },
    {
     "data": {
      "image/png": "[encoded data removed]",
      "text/plain": [
       "<Figure size 432x288 with 1 Axes>"
      ]
     },
     "metadata": {
      "needs_background": "light"
     },
     "output_type": "display_data"
    }
   ],
   "source": [
    "plt.scatter(reg_pred, residual)"
   ]
  },
  {
   "cell_type": "markdown",
   "id": "f5ca5648",
   "metadata": {},
   "source": [
    "### Perfomance Metrics"
   ]
  },
  {
   "cell_type": "code",
   "execution_count": 67,
   "id": "f9abea1c",
   "metadata": {},
   "outputs": [
    {
     "name": "stdout",
     "output_type": "stream",
     "text": [
      "8.174371809630447\n",
      "2.172275225121574\n",
      "2.8590858346035097\n"
     ]
    }
   ],
   "source": [
    "from sklearn.metrics import mean_squared_error\n",
    "from sklearn.metrics import mean_absolute_error\n",
    "print(mean_squared_error(y_test,reg_pred))\n",
    "print(mean_absolute_error(y_test,reg_pred))\n",
    "print(np.sqrt(mean_squared_error(y_test,reg_pred)))"
   ]
  },
  {
   "cell_type": "markdown",
   "id": "9a783596",
   "metadata": {},
   "source": [
    "### R Square & Adusjested R squre"
   ]
  },
  {
   "cell_type": "code",
   "execution_count": 68,
   "id": "9dec1da2",
   "metadata": {},
   "outputs": [
    {
     "name": "stdout",
     "output_type": "stream",
     "text": [
      "0.4094946991655799\n"
     ]
    }
   ],
   "source": [
    "from sklearn.metrics import r2_score\n",
    "score = r2_score(y_test,reg_pred)\n",
    "print(score)"
   ]
  },
  {
   "cell_type": "code",
   "execution_count": 69,
   "id": "9438e736",
   "metadata": {},
   "outputs": [
    {
     "data": {
      "text/plain": [
       "0.32513679904637705"
      ]
     },
     "execution_count": 69,
     "metadata": {},
     "output_type": "execute_result"
    }
   ],
   "source": [
    "1-(1-score)*(len(y_test)-1)/(len(y_test)-x_test.shape[1]-1)  ## Adjuested r square value"
   ]
  },
  {
   "cell_type": "markdown",
   "id": "f01e794e",
   "metadata": {},
   "source": [
    "### Ridege Regression Algorithm"
   ]
  },
  {
   "cell_type": "code",
   "execution_count": 70,
   "id": "099f82a9",
   "metadata": {},
   "outputs": [],
   "source": [
    "from sklearn.linear_model import Ridge"
   ]
  },
  {
   "cell_type": "code",
   "execution_count": 71,
   "id": "1a835a43",
   "metadata": {},
   "outputs": [],
   "source": [
    "ridge = Ridge()"
   ]
  },
  {
   "cell_type": "code",
   "execution_count": 72,
   "id": "3a093a13",
   "metadata": {},
   "outputs": [
    {
     "data": {
      "text/plain": [
       "Ridge()"
      ]
     },
     "execution_count": 72,
     "metadata": {},
     "output_type": "execute_result"
    }
   ],
   "source": [
    "ridge.fit(x_train,y_train)"
   ]
  },
  {
   "cell_type": "code",
   "execution_count": 73,
   "id": "49bdba61",
   "metadata": {},
   "outputs": [
    {
     "name": "stdout",
     "output_type": "stream",
     "text": [
      "[[-1.43943941 -0.7160425  -0.25512583  0.93891733  0.00628512  0.39583232\n",
      "   0.21860463  0.25319759 -0.32843448 -0.2115963 ]]\n"
     ]
    }
   ],
   "source": [
    "### Coefficet\n",
    "\n",
    "print(ridge.coef_)"
   ]
  },
  {
   "cell_type": "code",
   "execution_count": 74,
   "id": "2e26de1f",
   "metadata": {},
   "outputs": [
    {
     "name": "stdout",
     "output_type": "stream",
     "text": [
      "[32.07407407]\n"
     ]
    }
   ],
   "source": [
    "### Intercept \n",
    "\n",
    "print(ridge.intercept_)"
   ]
  },
  {
   "cell_type": "code",
   "execution_count": 75,
   "id": "7d0fcfe2",
   "metadata": {},
   "outputs": [],
   "source": [
    "ridge_pred = ridge.predict(x_test)"
   ]
  },
  {
   "cell_type": "code",
   "execution_count": 76,
   "id": "2e90869a",
   "metadata": {},
   "outputs": [
    {
     "data": {
      "text/plain": [
       "array([[31.91887704],\n",
       "       [33.40547855],\n",
       "       [33.7841496 ],\n",
       "       [25.65877916],\n",
       "       [28.59628135],\n",
       "       [33.61269672],\n",
       "       [31.57237247],\n",
       "       [34.58220054],\n",
       "       [31.94550746],\n",
       "       [33.43851023],\n",
       "       [34.14495825],\n",
       "       [32.87807079],\n",
       "       [35.68376782],\n",
       "       [32.05328506],\n",
       "       [34.12572945],\n",
       "       [33.32321603],\n",
       "       [27.6017316 ],\n",
       "       [35.85757436],\n",
       "       [32.70857194],\n",
       "       [24.44565836],\n",
       "       [32.05384911],\n",
       "       [32.44763793],\n",
       "       [33.10187308],\n",
       "       [33.37584311],\n",
       "       [30.06579191],\n",
       "       [32.92096234],\n",
       "       [34.00042913],\n",
       "       [31.8486332 ],\n",
       "       [31.90052827],\n",
       "       [34.80344826],\n",
       "       [34.01584014],\n",
       "       [33.83517025],\n",
       "       [34.11938297],\n",
       "       [32.76314968],\n",
       "       [30.96480422],\n",
       "       [28.8008761 ],\n",
       "       [32.49763677],\n",
       "       [31.95505986],\n",
       "       [33.21426994],\n",
       "       [33.79814275],\n",
       "       [34.28426514],\n",
       "       [35.1775836 ],\n",
       "       [34.06163911],\n",
       "       [37.40153722],\n",
       "       [32.68521823],\n",
       "       [36.74923227],\n",
       "       [32.2382069 ],\n",
       "       [35.46612357],\n",
       "       [30.62847251],\n",
       "       [31.00390306],\n",
       "       [32.3683325 ],\n",
       "       [39.31753237],\n",
       "       [32.06138777],\n",
       "       [35.12402939],\n",
       "       [27.69725536],\n",
       "       [36.89094403],\n",
       "       [34.02931899],\n",
       "       [34.14861455],\n",
       "       [28.97112893],\n",
       "       [32.32424147],\n",
       "       [32.57290377],\n",
       "       [31.37931447],\n",
       "       [24.08751857],\n",
       "       [36.58453813],\n",
       "       [35.97633862],\n",
       "       [29.48444481],\n",
       "       [29.60111185],\n",
       "       [29.33696858],\n",
       "       [35.9935057 ],\n",
       "       [28.11176783],\n",
       "       [29.74959355],\n",
       "       [31.65019828],\n",
       "       [31.42927662],\n",
       "       [30.89353381],\n",
       "       [34.69714026],\n",
       "       [32.71561768],\n",
       "       [34.62315379],\n",
       "       [32.38650331],\n",
       "       [36.95489951],\n",
       "       [27.28065096],\n",
       "       [33.51390328]])"
      ]
     },
     "execution_count": 76,
     "metadata": {},
     "output_type": "execute_result"
    }
   ],
   "source": [
    "ridge_pred"
   ]
  },
  {
   "cell_type": "markdown",
   "id": "cb19723e",
   "metadata": {},
   "source": [
    "### Assumption on Ridge Regression"
   ]
  },
  {
   "cell_type": "code",
   "execution_count": 77,
   "id": "2210232e",
   "metadata": {},
   "outputs": [
    {
     "data": {
      "text/plain": [
       "Text(0, 0.5, ' Test predicted data')"
      ]
     },
     "execution_count": 77,
     "metadata": {},
     "output_type": "execute_result"
    },
    {
     "data": {
      "image/png": "[encoded data removed]",
      "text/plain": [
       "<Figure size 432x288 with 1 Axes>"
      ]
     },
     "metadata": {
      "needs_background": "light"
     },
     "output_type": "display_data"
    }
   ],
   "source": [
    "plt.scatter(y_test,ridge_pred)\n",
    "plt.xlabel('Test Truth data')\n",
    "plt.ylabel(' Test predicted data')"
   ]
  },
  {
   "cell_type": "code",
   "execution_count": 78,
   "id": "ae47ad8e",
   "metadata": {},
   "outputs": [],
   "source": [
    "## Residual\n",
    "\n",
    "residual = y_test - ridge_pred"
   ]
  },
  {
   "cell_type": "code",
   "execution_count": 79,
   "id": "dcaf2400",
   "metadata": {},
   "outputs": [
    {
     "data": {
      "text/html": [
       "<div>\n",
       "<style scoped>\n",
       "    .dataframe tbody tr th:only-of-type {\n",
       "        vertical-align: middle;\n",
       "    }\n",
       "\n",
       "    .dataframe tbody tr th {\n",
       "        vertical-align: top;\n",
       "    }\n",
       "\n",
       "    .dataframe thead th {\n",
       "        text-align: right;\n",
       "    }\n",
       "</style>\n",
       "<table border=\"1\" class=\"dataframe\">\n",
       "  <thead>\n",
       "    <tr style=\"text-align: right;\">\n",
       "      <th></th>\n",
       "      <th>Temperature</th>\n",
       "    </tr>\n",
       "  </thead>\n",
       "  <tbody>\n",
       "    <tr>\n",
       "      <th>46</th>\n",
       "      <td>-2.918877</td>\n",
       "    </tr>\n",
       "    <tr>\n",
       "      <th>226</th>\n",
       "      <td>-4.405479</td>\n",
       "    </tr>\n",
       "    <tr>\n",
       "      <th>181</th>\n",
       "      <td>2.215850</td>\n",
       "    </tr>\n",
       "    <tr>\n",
       "      <th>116</th>\n",
       "      <td>0.341221</td>\n",
       "    </tr>\n",
       "    <tr>\n",
       "      <th>124</th>\n",
       "      <td>0.403719</td>\n",
       "    </tr>\n",
       "    <tr>\n",
       "      <th>...</th>\n",
       "      <td>...</td>\n",
       "    </tr>\n",
       "    <tr>\n",
       "      <th>127</th>\n",
       "      <td>0.376846</td>\n",
       "    </tr>\n",
       "    <tr>\n",
       "      <th>242</th>\n",
       "      <td>-8.386503</td>\n",
       "    </tr>\n",
       "    <tr>\n",
       "      <th>208</th>\n",
       "      <td>-3.954900</td>\n",
       "    </tr>\n",
       "    <tr>\n",
       "      <th>102</th>\n",
       "      <td>2.719349</td>\n",
       "    </tr>\n",
       "    <tr>\n",
       "      <th>78</th>\n",
       "      <td>2.486097</td>\n",
       "    </tr>\n",
       "  </tbody>\n",
       "</table>\n",
       "<p>81 rows × 1 columns</p>\n",
       "</div>"
      ],
      "text/plain": [
       "     Temperature\n",
       "46     -2.918877\n",
       "226    -4.405479\n",
       "181     2.215850\n",
       "116     0.341221\n",
       "124     0.403719\n",
       "..           ...\n",
       "127     0.376846\n",
       "242    -8.386503\n",
       "208    -3.954900\n",
       "102     2.719349\n",
       "78      2.486097\n",
       "\n",
       "[81 rows x 1 columns]"
      ]
     },
     "execution_count": 79,
     "metadata": {},
     "output_type": "execute_result"
    }
   ],
   "source": [
    "residual"
   ]
  },
  {
   "cell_type": "code",
   "execution_count": 80,
   "id": "d2fc58fc",
   "metadata": {},
   "outputs": [
    {
     "data": {
      "text/plain": [
       "<seaborn.axisgrid.FacetGrid at 0x15af3eaaf40>"
      ]
     },
     "execution_count": 80,
     "metadata": {},
     "output_type": "execute_result"
    },
    {
     "data": {
      "image/png": "[encoded data removed]",
      "text/plain": [
       "<Figure size 458.875x360 with 1 Axes>"
      ]
     },
     "metadata": {
      "needs_background": "light"
     },
     "output_type": "display_data"
    }
   ],
   "source": [
    "sns.displot(residual , kind = 'kde' )"
   ]
  },
  {
   "cell_type": "markdown",
   "id": "496eb39b",
   "metadata": {},
   "source": [
    "### Scatter plot with residual & preddiction"
   ]
  },
  {
   "cell_type": "code",
   "execution_count": 81,
   "id": "5f5d0e61",
   "metadata": {},
   "outputs": [
    {
     "data": {
      "text/plain": [
       "<matplotlib.collections.PathCollection at 0x15af3e114c0>"
      ]
     },
     "execution_count": 81,
     "metadata": {},
     "output_type": "execute_result"
    },
    {
     "data": {
      "image/png": "[encoded data removed]",
      "text/plain": [
       "<Figure size 432x288 with 1 Axes>"
      ]
     },
     "metadata": {
      "needs_background": "light"
     },
     "output_type": "display_data"
    }
   ],
   "source": [
    "plt.scatter(ridge_pred, residual)"
   ]
  },
  {
   "cell_type": "markdown",
   "id": "97d90111",
   "metadata": {},
   "source": [
    "## Performance Matrics"
   ]
  },
  {
   "cell_type": "code",
   "execution_count": 82,
   "id": "30b85e67",
   "metadata": {},
   "outputs": [
    {
     "name": "stdout",
     "output_type": "stream",
     "text": [
      "8.14652515846668\n",
      "2.1690799660862154\n",
      "2.8542118278899133\n"
     ]
    }
   ],
   "source": [
    "from sklearn.metrics import mean_squared_error\n",
    "from sklearn.metrics import mean_absolute_error\n",
    "print(mean_squared_error(y_test,ridge_pred))\n",
    "print(mean_absolute_error(y_test,ridge_pred))\n",
    "print(np.sqrt(mean_squared_error(y_test,ridge_pred)))"
   ]
  },
  {
   "cell_type": "markdown",
   "id": "79262015",
   "metadata": {},
   "source": [
    "## R square"
   ]
  },
  {
   "cell_type": "code",
   "execution_count": 83,
   "id": "6a308df9",
   "metadata": {},
   "outputs": [
    {
     "name": "stdout",
     "output_type": "stream",
     "text": [
      "0.4094946991655799\n"
     ]
    }
   ],
   "source": [
    "from sklearn.metrics import r2_score\n",
    "ridge_score = r2_score(y_test,ridge_pred)\n",
    "print(score)"
   ]
  },
  {
   "cell_type": "markdown",
   "id": "feff3d8f",
   "metadata": {},
   "source": [
    "## Adjusted R Square"
   ]
  },
  {
   "cell_type": "code",
   "execution_count": 84,
   "id": "d3c400f7",
   "metadata": {},
   "outputs": [
    {
     "data": {
      "text/plain": [
       "0.3274357745001335"
      ]
     },
     "execution_count": 84,
     "metadata": {},
     "output_type": "execute_result"
    }
   ],
   "source": [
    "1-(1-ridge_score)*(len(y_test)-1)/(len(y_test)-x_test.shape[1]-1)  ## Adjuested r square value"
   ]
  },
  {
   "cell_type": "markdown",
   "id": "9b4048df",
   "metadata": {},
   "source": [
    "# Lasso Regression"
   ]
  },
  {
   "cell_type": "code",
   "execution_count": 85,
   "id": "1c81cf89",
   "metadata": {},
   "outputs": [],
   "source": [
    "from sklearn.linear_model import Lasso"
   ]
  },
  {
   "cell_type": "code",
   "execution_count": 86,
   "id": "598aa5f8",
   "metadata": {},
   "outputs": [],
   "source": [
    "lasso = Lasso()"
   ]
  },
  {
   "cell_type": "code",
   "execution_count": 87,
   "id": "8b6a6ea7",
   "metadata": {},
   "outputs": [
    {
     "data": {
      "text/plain": [
       "Lasso()"
      ]
     },
     "execution_count": 87,
     "metadata": {},
     "output_type": "execute_result"
    }
   ],
   "source": [
    "lasso.fit(x_train,y_train)"
   ]
  },
  {
   "cell_type": "markdown",
   "id": "1d088724",
   "metadata": {},
   "source": [
    "### Coefficients and Intercepts"
   ]
  },
  {
   "cell_type": "code",
   "execution_count": 88,
   "id": "8275180d",
   "metadata": {},
   "outputs": [
    {
     "name": "stdout",
     "output_type": "stream",
     "text": [
      "[-0.88423537 -0.         -0.          0.88313134  0.          0.\n",
      "  0.          0.          0.         -0.        ]\n"
     ]
    }
   ],
   "source": [
    "print(lasso.coef_)"
   ]
  },
  {
   "cell_type": "code",
   "execution_count": 89,
   "id": "ad9b1aa2",
   "metadata": {},
   "outputs": [
    {
     "name": "stdout",
     "output_type": "stream",
     "text": [
      "[32.07407407]\n"
     ]
    }
   ],
   "source": [
    "print(lasso.intercept_)"
   ]
  },
  {
   "cell_type": "code",
   "execution_count": 90,
   "id": "c5fd4617",
   "metadata": {},
   "outputs": [],
   "source": [
    "## prediction for test data\n",
    "\n",
    "lasso_pred = lasso.predict(x_test)"
   ]
  },
  {
   "cell_type": "code",
   "execution_count": 91,
   "id": "31048dc8",
   "metadata": {},
   "outputs": [
    {
     "data": {
      "text/plain": [
       "array([31.99263189, 33.56261409, 33.16968133, 29.35085197, 29.41532603,\n",
       "       33.00570181, 32.24618859, 33.57987995, 32.17946599, 33.03180429,\n",
       "       32.43352237, 32.64830012, 34.42463082, 31.61671515, 32.83763259,\n",
       "       33.35142638, 29.33942467, 34.79854886, 32.38506498, 29.63719153,\n",
       "       32.36854863, 32.21265622, 32.60134175, 31.81897394, 31.16330572,\n",
       "       32.75364414, 32.88409128, 32.36320974, 32.04108928, 31.96868565,\n",
       "       33.24608236, 33.07067555, 33.54659742, 32.57214892, 31.41161583,\n",
       "       30.06340682, 32.79726231, 32.13550568, 33.36310351, 33.22497663,\n",
       "       33.25167109, 34.07840658, 33.22831682, 33.75728546, 32.90619636,\n",
       "       34.59903828, 32.34644356, 33.72050521, 31.73648451, 31.41845375,\n",
       "       32.26170559, 35.46055533, 32.15686124, 33.60932262, 29.07618954,\n",
       "       34.41195434, 33.23999395, 32.50358516, 29.88575148, 32.20406944,\n",
       "       32.0385909 , 31.44605525, 29.20463799, 34.49394409, 33.4095622 ,\n",
       "       30.24824223, 31.37474327, 30.84852284, 34.06622977, 30.49062147,\n",
       "       31.23012062, 32.0385909 , 31.43946717, 31.10541974, 33.38061921,\n",
       "       32.30257555, 32.9833469 , 32.74980427, 34.4764284 , 30.16341195,\n",
       "       33.31614515])"
      ]
     },
     "execution_count": 91,
     "metadata": {},
     "output_type": "execute_result"
    }
   ],
   "source": [
    "lasso_pred"
   ]
  },
  {
   "cell_type": "markdown",
   "id": "6c6b802e",
   "metadata": {},
   "source": [
    "### Performance Matrics"
   ]
  },
  {
   "cell_type": "code",
   "execution_count": 92,
   "id": "a9d516c5",
   "metadata": {},
   "outputs": [
    {
     "name": "stdout",
     "output_type": "stream",
     "text": [
      "8.69462464944341\n",
      "2.370968686727018\n",
      "2.9486648927003234\n"
     ]
    }
   ],
   "source": [
    "from sklearn.metrics import mean_squared_error\n",
    "from sklearn.metrics import mean_absolute_error\n",
    "print(mean_squared_error(y_test,lasso_pred))\n",
    "print(mean_absolute_error(y_test,lasso_pred))\n",
    "print(np.sqrt(mean_squared_error(y_test,lasso_pred)))"
   ]
  },
  {
   "cell_type": "markdown",
   "id": "4ee573e8",
   "metadata": {},
   "source": [
    "### R Square"
   ]
  },
  {
   "cell_type": "code",
   "execution_count": 93,
   "id": "d516b2c1",
   "metadata": {},
   "outputs": [
    {
     "name": "stdout",
     "output_type": "stream",
     "text": [
      "0.3719123543887275\n"
     ]
    }
   ],
   "source": [
    "from sklearn.metrics import r2_score\n",
    "lasso_score = r2_score(y_test,lasso_pred)\n",
    "print(lasso_score)"
   ]
  },
  {
   "cell_type": "markdown",
   "id": "08b4008d",
   "metadata": {},
   "source": [
    "### Adjusted R square"
   ]
  },
  {
   "cell_type": "code",
   "execution_count": 94,
   "id": "de3d793b",
   "metadata": {},
   "outputs": [
    {
     "data": {
      "text/plain": [
       "0.28218554787283134"
      ]
     },
     "execution_count": 94,
     "metadata": {},
     "output_type": "execute_result"
    }
   ],
   "source": [
    "1-(1-lasso_score)*(len(y_test)-1)/(len(y_test)-x_test.shape[1]-1)  ## Adjuested r square value"
   ]
  },
  {
   "cell_type": "markdown",
   "id": "4c10b125",
   "metadata": {},
   "source": [
    "# Elastic - Net regression"
   ]
  },
  {
   "cell_type": "code",
   "execution_count": 95,
   "id": "b4b6197c",
   "metadata": {},
   "outputs": [],
   "source": [
    "from sklearn.linear_model import ElasticNet"
   ]
  },
  {
   "cell_type": "code",
   "execution_count": 96,
   "id": "a4e95803",
   "metadata": {},
   "outputs": [],
   "source": [
    "elastic = ElasticNet()"
   ]
  },
  {
   "cell_type": "code",
   "execution_count": 97,
   "id": "39fb2616",
   "metadata": {},
   "outputs": [
    {
     "data": {
      "text/plain": [
       "ElasticNet()"
      ]
     },
     "execution_count": 97,
     "metadata": {},
     "output_type": "execute_result"
    }
   ],
   "source": [
    "elastic.fit(x_train,y_train)"
   ]
  },
  {
   "cell_type": "markdown",
   "id": "2d7a1b8e",
   "metadata": {},
   "source": [
    "## Coefficeient & Intercepts"
   ]
  },
  {
   "cell_type": "code",
   "execution_count": 98,
   "id": "cb8f3e0a",
   "metadata": {},
   "outputs": [
    {
     "name": "stdout",
     "output_type": "stream",
     "text": [
      "[-0.77155493 -0.27327033 -0.02945645  0.70980198  0.11177449  0.\n",
      "  0.20914599  0.04593431  0.12829249 -0.        ]\n"
     ]
    }
   ],
   "source": [
    "print(elastic.coef_)"
   ]
  },
  {
   "cell_type": "code",
   "execution_count": 99,
   "id": "23be7184",
   "metadata": {},
   "outputs": [
    {
     "name": "stdout",
     "output_type": "stream",
     "text": [
      "[32.07407407]\n"
     ]
    }
   ],
   "source": [
    "print(elastic.intercept_)"
   ]
  },
  {
   "cell_type": "code",
   "execution_count": 100,
   "id": "6cf30480",
   "metadata": {},
   "outputs": [],
   "source": [
    "## Prediction for test data\n",
    "\n",
    "elastic_pred = elastic.predict(x_test)"
   ]
  },
  {
   "cell_type": "code",
   "execution_count": 101,
   "id": "ab0f6ec7",
   "metadata": {},
   "outputs": [
    {
     "data": {
      "text/plain": [
       "array([31.9573208 , 33.23686908, 33.35699564, 28.69175409, 29.50702659,\n",
       "       33.21952486, 31.75246849, 33.96237735, 32.10800305, 32.71913539,\n",
       "       32.6464949 , 32.70818669, 34.28160866, 31.98757886, 32.58127398,\n",
       "       33.38088877, 29.25544946, 35.1329971 , 32.41345187, 28.81942678,\n",
       "       31.92062398, 32.01321369, 32.87611371, 32.19248582, 30.76147509,\n",
       "       32.77885483, 32.9241576 , 31.80574265, 31.84088675, 32.63570681,\n",
       "       33.35824365, 32.97725238, 33.16526411, 32.6259555 , 31.48228091,\n",
       "       29.90876877, 32.28704956, 31.73349961, 33.28556103, 32.87586141,\n",
       "       33.61368581, 34.06687234, 33.48616338, 34.31378768, 32.80354959,\n",
       "       35.56194932, 31.98083723, 34.20080511, 31.06352775, 31.3703163 ,\n",
       "       32.33015611, 36.68465163, 32.02910227, 33.90164802, 29.13016242,\n",
       "       35.33664404, 33.44975962, 32.59500157, 29.89482886, 32.07728159,\n",
       "       32.39209933, 31.39172713, 28.33121558, 35.11153428, 34.62534381,\n",
       "       30.33956758, 30.58992082, 30.41863187, 34.79501455, 29.86618003,\n",
       "       31.0520072 , 32.09680635, 31.20338706, 31.12722538, 34.01998343,\n",
       "       32.49121998, 33.0901132 , 32.02987963, 35.52196854, 29.45679071,\n",
       "       33.38350807])"
      ]
     },
     "execution_count": 101,
     "metadata": {},
     "output_type": "execute_result"
    }
   ],
   "source": [
    "elastic_pred"
   ]
  },
  {
   "cell_type": "markdown",
   "id": "432aad9d",
   "metadata": {},
   "source": [
    "# Assumptions of elastic net regression"
   ]
  },
  {
   "cell_type": "code",
   "execution_count": 102,
   "id": "514c80d2",
   "metadata": {},
   "outputs": [
    {
     "data": {
      "text/plain": [
       "Text(0, 0.5, 'Test predicted data')"
      ]
     },
     "execution_count": 102,
     "metadata": {},
     "output_type": "execute_result"
    },
    {
     "data": {
      "image/png": "[encoded data removed]",
      "text/plain": [
       "<Figure size 432x288 with 1 Axes>"
      ]
     },
     "metadata": {
      "needs_background": "light"
     },
     "output_type": "display_data"
    }
   ],
   "source": [
    "plt.scatter(y_test,elastic_pred)\n",
    "plt.xlabel('Test truth data')\n",
    "plt.ylabel('Test predicted data')"
   ]
  },
  {
   "cell_type": "markdown",
   "id": "7e8a6be7",
   "metadata": {},
   "source": [
    "# Performance Matrix"
   ]
  },
  {
   "cell_type": "code",
   "execution_count": 103,
   "id": "1fcd837f",
   "metadata": {},
   "outputs": [
    {
     "name": "stdout",
     "output_type": "stream",
     "text": [
      "7.918267418307841\n",
      "2.2796482511865195\n",
      "2.8139416160090884\n"
     ]
    }
   ],
   "source": [
    "from sklearn.metrics import mean_squared_error\n",
    "from sklearn.metrics import mean_absolute_error\n",
    "print(mean_squared_error(y_test,elastic_pred))\n",
    "print(mean_absolute_error(y_test,elastic_pred))\n",
    "print(np.sqrt(mean_squared_error(y_test,elastic_pred)))"
   ]
  },
  {
   "cell_type": "markdown",
   "id": "eb5fccef",
   "metadata": {},
   "source": [
    "## R Square"
   ]
  },
  {
   "cell_type": "code",
   "execution_count": 104,
   "id": "2e4beed6",
   "metadata": {},
   "outputs": [
    {
     "name": "stdout",
     "output_type": "stream",
     "text": [
      "0.4279953257782332\n"
     ]
    }
   ],
   "source": [
    "from sklearn.metrics import r2_score\n",
    "elastic_score = r2_score(y_test,elastic_pred)\n",
    "print(elastic_score)"
   ]
  },
  {
   "cell_type": "markdown",
   "id": "d8fb0b18",
   "metadata": {},
   "source": [
    "## Adjusted R square"
   ]
  },
  {
   "cell_type": "code",
   "execution_count": 105,
   "id": "b3ac69e5",
   "metadata": {},
   "outputs": [
    {
     "data": {
      "text/plain": [
       "0.3462803723179807"
      ]
     },
     "execution_count": 105,
     "metadata": {},
     "output_type": "execute_result"
    }
   ],
   "source": [
    "1-(1-elastic_score)*(len(y_test)-1)/(len(y_test)-x_test.shape[1]-1)  ## Adjuested r square value"
   ]
  }
 ],
 "metadata": {
  "kernelspec": {
   "display_name": "Python 3 (ipykernel)",
   "language": "python",
   "name": "python3"
  },
  "language_info": {
   "codemirror_mode": {
    "name": "ipython",
    "version": 3
   },
   "file_extension": ".py",
   "mimetype": "text/x-python",
   "name": "python",
   "nbconvert_exporter": "python",
   "pygments_lexer": "ipython3",
   "version": "3.9.7"
  }
 },
 "nbformat": 4,
 "nbformat_minor": 5
}
